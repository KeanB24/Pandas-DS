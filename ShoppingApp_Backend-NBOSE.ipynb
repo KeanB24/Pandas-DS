{
 "cells": [
  {
   "cell_type": "markdown",
   "id": "fc5dfdb1",
   "metadata": {},
   "source": [
    "## Create a dictionary as Database to store user name, password"
   ]
  },
  {
   "cell_type": "code",
   "execution_count": 1,
   "id": "235348f0",
   "metadata": {},
   "outputs": [],
   "source": [
    "'''key would be username and value will be password'''\n",
    "user_db={}"
   ]
  },
  {
   "cell_type": "code",
   "execution_count": 2,
   "id": "f1355ecb",
   "metadata": {},
   "outputs": [],
   "source": [
    "'''key would be username and value will be type {user or admin}'''\n",
    "user_type_db={}"
   ]
  },
  {
   "cell_type": "markdown",
   "id": "c9268bf5",
   "metadata": {},
   "source": [
    "## Define a class for sign up of users and their type"
   ]
  },
  {
   "cell_type": "code",
   "execution_count": 3,
   "id": "edd830b7",
   "metadata": {},
   "outputs": [],
   "source": [
    "class User:\n",
    "    '''This class will take user name and its password and then save to the user_db dictionary'''\n",
    "    def __init__(self, username, password, usertype):\n",
    "        self.username=username\n",
    "        self.password=password\n",
    "        self.usertype=usertype\n",
    "    def addUser(self):\n",
    "        user_db[self.username]=self.password\n",
    "    def addUserType(self):\n",
    "        user_type_db[self.username]=self.usertype"
   ]
  },
  {
   "cell_type": "markdown",
   "id": "e880e601",
   "metadata": {},
   "source": [
    "## Insert a new user named \"NBose\" by instantiating User class, calling addUser and addUserType functions -- Admin User"
   ]
  },
  {
   "cell_type": "code",
   "execution_count": 4,
   "id": "fc3a9555",
   "metadata": {},
   "outputs": [],
   "source": [
    "user1=User(\"NBose\",\"P@%$#097\",'admin')"
   ]
  },
  {
   "cell_type": "code",
   "execution_count": 5,
   "id": "8910a259",
   "metadata": {},
   "outputs": [],
   "source": [
    "user1.addUser()"
   ]
  },
  {
   "cell_type": "code",
   "execution_count": 6,
   "id": "877764cf",
   "metadata": {},
   "outputs": [],
   "source": [
    "user1.addUserType()"
   ]
  },
  {
   "cell_type": "code",
   "execution_count": null,
   "id": "2e8ef2af",
   "metadata": {},
   "outputs": [],
   "source": []
  },
  {
   "cell_type": "code",
   "execution_count": 7,
   "id": "d8b0cf02",
   "metadata": {},
   "outputs": [
    {
     "data": {
      "text/plain": [
       "{'NBose': 'P@%$#097'}"
      ]
     },
     "execution_count": 7,
     "metadata": {},
     "output_type": "execute_result"
    }
   ],
   "source": [
    "user_db"
   ]
  },
  {
   "cell_type": "code",
   "execution_count": 142,
   "id": "a2329a81",
   "metadata": {},
   "outputs": [
    {
     "data": {
      "text/plain": [
       "{'NBose': 'admin'}"
      ]
     },
     "execution_count": 142,
     "metadata": {},
     "output_type": "execute_result"
    }
   ],
   "source": [
    "user_type_db"
   ]
  },
  {
   "cell_type": "markdown",
   "id": "c2bf1f7c",
   "metadata": {},
   "source": [
    "## Insert a new user named \"DRoy\" by instantiating User class, calling addUser and addUserType functions -- Normal User"
   ]
  },
  {
   "cell_type": "code",
   "execution_count": 147,
   "id": "e765e8d3",
   "metadata": {},
   "outputs": [],
   "source": [
    "user2=User(\"Droy\",\"*9887enkjg\",'user')"
   ]
  },
  {
   "cell_type": "code",
   "execution_count": 148,
   "id": "6a0b21d4",
   "metadata": {},
   "outputs": [
    {
     "data": {
      "text/plain": [
       "{'NBose': 'P@%$#097'}"
      ]
     },
     "execution_count": 148,
     "metadata": {},
     "output_type": "execute_result"
    }
   ],
   "source": [
    "user_db"
   ]
  },
  {
   "cell_type": "code",
   "execution_count": 149,
   "id": "48f7a539",
   "metadata": {},
   "outputs": [],
   "source": [
    "user2.addUser()"
   ]
  },
  {
   "cell_type": "code",
   "execution_count": 150,
   "id": "4ce54031",
   "metadata": {},
   "outputs": [],
   "source": [
    "user2.addUserType()"
   ]
  },
  {
   "cell_type": "code",
   "execution_count": 152,
   "id": "fdd3ddc6",
   "metadata": {},
   "outputs": [
    {
     "data": {
      "text/plain": [
       "{'NBose': 'P@%$#097', 'Droy': '*9887enkjg'}"
      ]
     },
     "execution_count": 152,
     "metadata": {},
     "output_type": "execute_result"
    }
   ],
   "source": [
    "user_db"
   ]
  },
  {
   "cell_type": "code",
   "execution_count": 153,
   "id": "6a1ede66",
   "metadata": {},
   "outputs": [
    {
     "data": {
      "text/plain": [
       "{'NBose': 'admin', 'Droy': 'user'}"
      ]
     },
     "execution_count": 153,
     "metadata": {},
     "output_type": "execute_result"
    }
   ],
   "source": [
    "user_type_db"
   ]
  },
  {
   "cell_type": "markdown",
   "id": "bf64e695",
   "metadata": {},
   "source": [
    "## Create a dictionary as a db to store product categories"
   ]
  },
  {
   "cell_type": "code",
   "execution_count": 9,
   "id": "dc7691d6",
   "metadata": {},
   "outputs": [],
   "source": [
    "product_categories={\"cat_1\":\"Boots\", \\\n",
    "                    \"cat_2\":\"Coats\",\n",
    "                    \"cat_3\":\"Jackets\",\n",
    "                    \"cat_4\":\"Caps\"\n",
    "                   }"
   ]
  },
  {
   "cell_type": "markdown",
   "id": "ab7d7ec2",
   "metadata": {},
   "source": [
    "## Create a dictionary as a db to store products"
   ]
  },
  {
   "cell_type": "code",
   "execution_count": 80,
   "id": "a021f70b",
   "metadata": {},
   "outputs": [],
   "source": [
    "products=[\n",
    "{'product_id':1001,'product_name':'Adidas Running Pro','product_category':'cat_1',\"cost\":1000},\n",
    "{'product_id':1002,'product_name':'John Jacobs Beanie Cap','product_category':'cat_4',\"cost\":200},\n",
    "{'product_id':1003,'product_name':'Nike Jordan 1','product_category':'cat_1',\"cost\":2500},\n",
    "{'product_id':1004,'product_name':'Cole Haan Mens Laces','product_category':'cat_1',\"cost\":4000},\n",
    "{'product_id':1005,'product_name':'Blackberry Red Jacket','product_category':'cat_3',\"cost\":1250},\n",
    "{'product_id':1006,'product_name':'Armani EX Col Coat','product_category':'cat_2',\"cost\":4500},\n",
    "{'product_id':1007,'product_name':'Nike Tennis Cap','product_category':'cat_4',\"cost\":300},\n",
    "{'product_id':1008,'product_name':'Ralh Lauren Jacket','product_category':'cat_3',\"cost\":5000},\n",
    "{'product_id':1009,'product_name':'Park Avenue Blue Blazer','product_category':'cat_2',\"cost\":\"750\"},\n",
    "{'product_id':1010,'product_name':'USPA Golf Cap','product_category':'cat_4',\"cost\":150}\n",
    "]"
   ]
  },
  {
   "cell_type": "code",
   "execution_count": 81,
   "id": "fedfb7f8",
   "metadata": {},
   "outputs": [
    {
     "data": {
      "text/plain": [
       "[{'product_id': 1001,\n",
       "  'product_name': 'Adidas Running Pro',\n",
       "  'product_category': 'cat_1',\n",
       "  'cost': 1000},\n",
       " {'product_id': 1002,\n",
       "  'product_name': 'John Jacobs Beanie Cap',\n",
       "  'product_category': 'cat_4',\n",
       "  'cost': 200},\n",
       " {'product_id': 1003,\n",
       "  'product_name': 'Nike Jordan 1',\n",
       "  'product_category': 'cat_1',\n",
       "  'cost': 2500},\n",
       " {'product_id': 1004,\n",
       "  'product_name': 'Cole Haan Mens Laces',\n",
       "  'product_category': 'cat_1',\n",
       "  'cost': 4000},\n",
       " {'product_id': 1005,\n",
       "  'product_name': 'Blackberry Red Jacket',\n",
       "  'product_category': 'cat_3',\n",
       "  'cost': 1250},\n",
       " {'product_id': 1006,\n",
       "  'product_name': 'Armani EX Col Coat',\n",
       "  'product_category': 'cat_2',\n",
       "  'cost': 4500},\n",
       " {'product_id': 1007,\n",
       "  'product_name': 'Nike Tennis Cap',\n",
       "  'product_category': 'cat_4',\n",
       "  'cost': 300},\n",
       " {'product_id': 1008,\n",
       "  'product_name': 'Ralh Lauren Jacket',\n",
       "  'product_category': 'cat_3',\n",
       "  'cost': 5000},\n",
       " {'product_id': 1009,\n",
       "  'product_name': 'Park Avenue Blue Blazer',\n",
       "  'product_category': 'cat_2',\n",
       "  'cost': '750'},\n",
       " {'product_id': 1010,\n",
       "  'product_name': 'USPA Golf Cap',\n",
       "  'product_category': 'cat_4',\n",
       "  'cost': 150}]"
      ]
     },
     "execution_count": 81,
     "metadata": {},
     "output_type": "execute_result"
    }
   ],
   "source": [
    "products"
   ]
  },
  {
   "cell_type": "markdown",
   "id": "aa905e0c",
   "metadata": {},
   "source": [
    "## Make necessary Imports"
   ]
  },
  {
   "cell_type": "code",
   "execution_count": 115,
   "id": "8ea4fd1c",
   "metadata": {},
   "outputs": [],
   "source": [
    "import random\n",
    "from datetime import datetime as dt"
   ]
  },
  {
   "cell_type": "markdown",
   "id": "0b6b3d36",
   "metadata": {},
   "source": [
    "## Define an Empty List to hold orders placed from AppMain Sessions-Instances"
   ]
  },
  {
   "cell_type": "code",
   "execution_count": 119,
   "id": "33c91735",
   "metadata": {},
   "outputs": [],
   "source": [
    "orders=[]"
   ]
  },
  {
   "cell_type": "markdown",
   "id": "54c8e025",
   "metadata": {},
   "source": [
    "## Define App Main Class to Perform all permitted operations from a user session"
   ]
  },
  {
   "cell_type": "code",
   "execution_count": 278,
   "id": "ba7aaf02",
   "metadata": {},
   "outputs": [],
   "source": [
    "\n",
    "class AppMain:\n",
    "    ''' This is the main class of the app that will take a user as an input and then validate the user to check if it exists in the DB.\n",
    "    if the user is valid then the session will be started and Welcome message will be displayed. Further to this, with the session instances of \n",
    "    this class, the user can view products, add products to cart, remove products from cart, calculate cart total and check out to place\n",
    "    an order. For admin, using the session instances it allows them to add or remove products from cataog'''\n",
    "    \n",
    "    session_id=\"session_\"\n",
    "    payment_methods=[\"Net Bankking\",\"UPI\",\"Credit Cards\",\"PayPal\"]\n",
    "    \n",
    "    def __init__(self,user):\n",
    "        \n",
    "        self.session_id=AppMain.session_id+\"~\"+user.username+str(random.random())\n",
    "        self.user=user\n",
    "        self.cart={}\n",
    "        self.cartTotal=0\n",
    "    \n",
    "    def validateUser(self):\n",
    "        \n",
    "        self.session_valid=False\n",
    "        if self.user.username in user_db.keys():\n",
    "            print(\"User exists in Database\")\n",
    "            self.session_valid=True\n",
    "        return self.session_valid\n",
    "    \n",
    "    def startSession(self):\n",
    "        \n",
    "        if self.session_valid==True:\n",
    "            print(\"Welcome to Demo Marketplace @ Neel's World\")\n",
    "        \n",
    "        return self.session_id\n",
    "    \n",
    "    def viewProductCatalog(self):\n",
    "        \n",
    "        if self.session_valid==True:\n",
    "            for product in products:\n",
    "                print(product)\n",
    "        return\n",
    "    \n",
    "    def addProductsToCart(self,product_id, qty):\n",
    "\n",
    "        if self.session_valid==True:\n",
    "            self.cart[str(product_id)+\"-\"+self.session_id]={\n",
    "                \"session_id\":self.session_id,\n",
    "                \"product_id\":product_id,\n",
    "                \"qty\":qty\n",
    "            }\n",
    "    def removeProductFromCart(self,product_id):\n",
    "        \n",
    "        if self.session_valid==True:\n",
    "            self.cart.pop(str(product_id)+\"-\"+self.session_id)\n",
    "    \n",
    "    def calculateCartValue(self):\n",
    "        \n",
    "        if self.session_valid==True:\n",
    "            for key,val in self.cart.items():\n",
    "                prod=val[\"product_id\"]\n",
    "                prod_qty=val[\"qty\"]\n",
    "                prod_cost=0\n",
    "\n",
    "                for i in products:\n",
    "                    if i[\"product_id\"]==prod:\n",
    "                        prod_cost=i[\"cost\"]\n",
    "            \n",
    "                self.cartTotal=self.cartTotal+(prod_qty*prod_cost)\n",
    "                \n",
    "        print(\"Your Cart total is $\",self.cartTotal)\n",
    "\n",
    "        return self.cartTotal\n",
    "        \n",
    "    def checkoutSession(self,payment_method):\n",
    "        \n",
    "        if self.session_valid==True:\n",
    "            orders.append({\"session_id\":self.session_id,\"cart\":self.cart,\"orderTimestamp\":str(dt.now()),\"cartTotal\":self.cartTotal,\"paidBy\":payment_method})\n",
    "        \n",
    "        print(\"Order places successfully!\")\n",
    "        return orders\n",
    "        \n",
    "    def addProductsToCatalog(self,prd_name,prd_cat,prd_cost):\n",
    "        \n",
    "        if self.session_valid==True:\n",
    "            isAdmin=False\n",
    "            \n",
    "            for k,v in user_type_db.items():\n",
    "                if k==self.user.username and v=='admin':\n",
    "                    isAdmin=True\n",
    "                    break\n",
    "            if isAdmin==True:\n",
    "                products.append({\"product_id\":random.randint(2000,9999999),\"product_name\":prd_name,\"product_category\":prd_cat,\"cost\":prd_cost})\n",
    "                \n",
    "    \n",
    "    def removeProductFromCatalog(self,prd_id):\n",
    "        \n",
    "        if self.session_valid==True:\n",
    "            isAdmin=False\n",
    "            \n",
    "            for k,v in user_type_db.items():\n",
    "                if k==self.user.username and v=='admin':\n",
    "                    isAdmin=True\n",
    "                    break\n",
    "            \n",
    "            if isAdmin==True:\n",
    "                for i,product in enumerate(products):\n",
    "                    if product[\"product_id\"]==prd_id:\n",
    "                        products.pop(i)\n",
    "    "
   ]
  },
  {
   "cell_type": "code",
   "execution_count": 279,
   "id": "49ad98c1",
   "metadata": {},
   "outputs": [],
   "source": [
    "usersession_NBose=AppMain(user1)"
   ]
  },
  {
   "cell_type": "code",
   "execution_count": 280,
   "id": "e5b56cf4",
   "metadata": {},
   "outputs": [
    {
     "data": {
      "text/plain": [
       "'session_~NBose0.33727257823027346'"
      ]
     },
     "execution_count": 280,
     "metadata": {},
     "output_type": "execute_result"
    }
   ],
   "source": [
    "usersession_NBose.session_id"
   ]
  },
  {
   "cell_type": "code",
   "execution_count": 281,
   "id": "8bc5f2c8",
   "metadata": {},
   "outputs": [
    {
     "name": "stdout",
     "output_type": "stream",
     "text": [
      "User exists in Database\n"
     ]
    },
    {
     "data": {
      "text/plain": [
       "True"
      ]
     },
     "execution_count": 281,
     "metadata": {},
     "output_type": "execute_result"
    }
   ],
   "source": [
    "usersession_NBose.validateUser()"
   ]
  },
  {
   "cell_type": "code",
   "execution_count": 282,
   "id": "1a407597",
   "metadata": {},
   "outputs": [
    {
     "name": "stdout",
     "output_type": "stream",
     "text": [
      "Welcome to Demo Marketplace @ Neel's World\n"
     ]
    },
    {
     "data": {
      "text/plain": [
       "'session_~NBose0.33727257823027346'"
      ]
     },
     "execution_count": 282,
     "metadata": {},
     "output_type": "execute_result"
    }
   ],
   "source": [
    "usersession_NBose.startSession()"
   ]
  },
  {
   "cell_type": "code",
   "execution_count": 283,
   "id": "c020f0c6",
   "metadata": {},
   "outputs": [
    {
     "name": "stdout",
     "output_type": "stream",
     "text": [
      "{'product_id': 1001, 'product_name': 'Adidas Running Pro', 'product_category': 'cat_1', 'cost': 1000}\n",
      "{'product_id': 1002, 'product_name': 'John Jacobs Beanie Cap', 'product_category': 'cat_4', 'cost': 200}\n",
      "{'product_id': 1003, 'product_name': 'Nike Jordan 1', 'product_category': 'cat_1', 'cost': 2500}\n",
      "{'product_id': 1004, 'product_name': 'Cole Haan Mens Laces', 'product_category': 'cat_1', 'cost': 4000}\n",
      "{'product_id': 1005, 'product_name': 'Blackberry Red Jacket', 'product_category': 'cat_3', 'cost': 1250}\n",
      "{'product_id': 1006, 'product_name': 'Armani EX Col Coat', 'product_category': 'cat_2', 'cost': 4500}\n",
      "{'product_id': 1007, 'product_name': 'Nike Tennis Cap', 'product_category': 'cat_4', 'cost': 300}\n",
      "{'product_id': 1008, 'product_name': 'Ralh Lauren Jacket', 'product_category': 'cat_3', 'cost': 5000}\n",
      "{'product_id': 1009, 'product_name': 'Park Avenue Blue Blazer', 'product_category': 'cat_2', 'cost': '750'}\n",
      "{'product_id': 1010, 'product_name': 'USPA Golf Cap', 'product_category': 'cat_4', 'cost': 150}\n"
     ]
    }
   ],
   "source": [
    "usersession_NBose.viewProductCatalog()"
   ]
  },
  {
   "cell_type": "code",
   "execution_count": 284,
   "id": "40f54486",
   "metadata": {},
   "outputs": [],
   "source": [
    "usersession_NBose.addProductsToCart(1001,2)"
   ]
  },
  {
   "cell_type": "code",
   "execution_count": 285,
   "id": "9b4359ea",
   "metadata": {},
   "outputs": [
    {
     "data": {
      "text/plain": [
       "{'1001-session_~NBose0.33727257823027346': {'session_id': 'session_~NBose0.33727257823027346',\n",
       "  'product_id': 1001,\n",
       "  'qty': 2}}"
      ]
     },
     "execution_count": 285,
     "metadata": {},
     "output_type": "execute_result"
    }
   ],
   "source": [
    "usersession_NBose.cart"
   ]
  },
  {
   "cell_type": "code",
   "execution_count": 286,
   "id": "b93be639",
   "metadata": {},
   "outputs": [],
   "source": [
    "usersession_NBose.addProductsToCart(1010,5)"
   ]
  },
  {
   "cell_type": "code",
   "execution_count": 287,
   "id": "be34fd9a",
   "metadata": {},
   "outputs": [
    {
     "data": {
      "text/plain": [
       "{'1001-session_~NBose0.33727257823027346': {'session_id': 'session_~NBose0.33727257823027346',\n",
       "  'product_id': 1001,\n",
       "  'qty': 2},\n",
       " '1010-session_~NBose0.33727257823027346': {'session_id': 'session_~NBose0.33727257823027346',\n",
       "  'product_id': 1010,\n",
       "  'qty': 5}}"
      ]
     },
     "execution_count": 287,
     "metadata": {},
     "output_type": "execute_result"
    }
   ],
   "source": [
    "usersession_NBose.cart"
   ]
  },
  {
   "cell_type": "code",
   "execution_count": 288,
   "id": "8de9cf28",
   "metadata": {},
   "outputs": [],
   "source": [
    "usersession_NBose.removeProductFromCart(1001)"
   ]
  },
  {
   "cell_type": "code",
   "execution_count": 289,
   "id": "7344e031",
   "metadata": {},
   "outputs": [
    {
     "data": {
      "text/plain": [
       "{'1010-session_~NBose0.33727257823027346': {'session_id': 'session_~NBose0.33727257823027346',\n",
       "  'product_id': 1010,\n",
       "  'qty': 5}}"
      ]
     },
     "execution_count": 289,
     "metadata": {},
     "output_type": "execute_result"
    }
   ],
   "source": [
    "usersession_NBose.cart"
   ]
  },
  {
   "cell_type": "code",
   "execution_count": 290,
   "id": "449b5897",
   "metadata": {},
   "outputs": [],
   "source": [
    "usersession_NBose.addProductsToCart(1006,4)"
   ]
  },
  {
   "cell_type": "code",
   "execution_count": 291,
   "id": "ede7fdd9",
   "metadata": {},
   "outputs": [
    {
     "data": {
      "text/plain": [
       "{'1010-session_~NBose0.33727257823027346': {'session_id': 'session_~NBose0.33727257823027346',\n",
       "  'product_id': 1010,\n",
       "  'qty': 5},\n",
       " '1006-session_~NBose0.33727257823027346': {'session_id': 'session_~NBose0.33727257823027346',\n",
       "  'product_id': 1006,\n",
       "  'qty': 4}}"
      ]
     },
     "execution_count": 291,
     "metadata": {},
     "output_type": "execute_result"
    }
   ],
   "source": [
    "usersession_NBose.cart"
   ]
  },
  {
   "cell_type": "code",
   "execution_count": 292,
   "id": "fa3e2018",
   "metadata": {},
   "outputs": [
    {
     "name": "stdout",
     "output_type": "stream",
     "text": [
      "Your Cart total is $ 18750\n"
     ]
    },
    {
     "data": {
      "text/plain": [
       "18750"
      ]
     },
     "execution_count": 292,
     "metadata": {},
     "output_type": "execute_result"
    }
   ],
   "source": [
    "usersession_NBose.calculateCartValue()"
   ]
  },
  {
   "cell_type": "code",
   "execution_count": 293,
   "id": "e7301b5c",
   "metadata": {},
   "outputs": [],
   "source": [
    "# total_cost=0\n",
    "\n",
    "# for key,val in usersession_NBose.cart.items():\n",
    "#     prod=val[\"product_id\"]\n",
    "#     prod_qty=val[\"qty\"]\n",
    "#     prod_cost=0\n",
    "\n",
    "#     for i in products:\n",
    "#         if i[\"product_id\"]==prod:\n",
    "#             prod_cost=i[\"cost\"]\n",
    "            \n",
    "#     total_cost=total_cost+(prod_qty*prod_cost)\n",
    "# #     print(prod)\n",
    "# #     print(prod_qty)\n",
    "# #     print(prod_cost)\n",
    "\n",
    "# print(total_cost)"
   ]
  },
  {
   "cell_type": "code",
   "execution_count": 294,
   "id": "ba866efa",
   "metadata": {},
   "outputs": [
    {
     "data": {
      "text/plain": [
       "'2024-07-16 21:10:45.703600'"
      ]
     },
     "execution_count": 294,
     "metadata": {},
     "output_type": "execute_result"
    }
   ],
   "source": [
    "str(dt.now())"
   ]
  },
  {
   "cell_type": "code",
   "execution_count": 295,
   "id": "de9e63f5",
   "metadata": {},
   "outputs": [
    {
     "name": "stdout",
     "output_type": "stream",
     "text": [
      "Order places successfully!\n"
     ]
    },
    {
     "data": {
      "text/plain": [
       "[{'session_id': 'session_~NBose0.34680830946765095',\n",
       "  'cart': {'1010-session_~NBose0.34680830946765095': {'session_id': 'session_~NBose0.34680830946765095',\n",
       "    'product_id': 1010,\n",
       "    'qty': 5},\n",
       "   '1006-session_~NBose0.34680830946765095': {'session_id': 'session_~NBose0.34680830946765095',\n",
       "    'product_id': 1006,\n",
       "    'qty': 4}},\n",
       "  'orderTimestamp': '2024-07-16 20:33:11.736594',\n",
       "  'cartTotal': 18750,\n",
       "  'paidBy': 'UPI'},\n",
       " {'session_id': 'session_~NBose0.3487725817619084',\n",
       "  'cart': {'1010-session_~NBose0.3487725817619084': {'session_id': 'session_~NBose0.3487725817619084',\n",
       "    'product_id': 1010,\n",
       "    'qty': 5},\n",
       "   '1006-session_~NBose0.3487725817619084': {'session_id': 'session_~NBose0.3487725817619084',\n",
       "    'product_id': 1006,\n",
       "    'qty': 4}},\n",
       "  'orderTimestamp': '2024-07-16 20:50:13.782083',\n",
       "  'cartTotal': 18750,\n",
       "  'paidBy': 'UPI'},\n",
       " {'session_id': 'session_~NBose0.3979104538375884',\n",
       "  'cart': {'1010-session_~NBose0.3979104538375884': {'session_id': 'session_~NBose0.3979104538375884',\n",
       "    'product_id': 1010,\n",
       "    'qty': 5},\n",
       "   '1006-session_~NBose0.3979104538375884': {'session_id': 'session_~NBose0.3979104538375884',\n",
       "    'product_id': 1006,\n",
       "    'qty': 4}},\n",
       "  'orderTimestamp': '2024-07-16 20:52:47.244126',\n",
       "  'cartTotal': 18750,\n",
       "  'paidBy': 'UPI'},\n",
       " {'session_id': 'session_~NBose0.942277801453715',\n",
       "  'cart': {'1010-session_~NBose0.942277801453715': {'session_id': 'session_~NBose0.942277801453715',\n",
       "    'product_id': 1010,\n",
       "    'qty': 5},\n",
       "   '1006-session_~NBose0.942277801453715': {'session_id': 'session_~NBose0.942277801453715',\n",
       "    'product_id': 1006,\n",
       "    'qty': 4}},\n",
       "  'orderTimestamp': '2024-07-16 20:53:28.278398',\n",
       "  'cartTotal': 18750,\n",
       "  'paidBy': 'UPI'},\n",
       " {'session_id': 'session_~NBose0.850809661483872',\n",
       "  'cart': {'1010-session_~NBose0.850809661483872': {'session_id': 'session_~NBose0.850809661483872',\n",
       "    'product_id': 1010,\n",
       "    'qty': 5},\n",
       "   '1006-session_~NBose0.850809661483872': {'session_id': 'session_~NBose0.850809661483872',\n",
       "    'product_id': 1006,\n",
       "    'qty': 4}},\n",
       "  'orderTimestamp': '2024-07-16 20:56:28.569475',\n",
       "  'cartTotal': 18750,\n",
       "  'paidBy': 'UPI'},\n",
       " {'session_id': 'session_~NBose0.04338677696773774',\n",
       "  'cart': {'1010-session_~NBose0.04338677696773774': {'session_id': 'session_~NBose0.04338677696773774',\n",
       "    'product_id': 1010,\n",
       "    'qty': 5},\n",
       "   '1006-session_~NBose0.04338677696773774': {'session_id': 'session_~NBose0.04338677696773774',\n",
       "    'product_id': 1006,\n",
       "    'qty': 4}},\n",
       "  'orderTimestamp': '2024-07-16 21:02:03.714798',\n",
       "  'cartTotal': 18750,\n",
       "  'paidBy': 'UPI'},\n",
       " {'session_id': 'session_~NBose0.33727257823027346',\n",
       "  'cart': {'1010-session_~NBose0.33727257823027346': {'session_id': 'session_~NBose0.33727257823027346',\n",
       "    'product_id': 1010,\n",
       "    'qty': 5},\n",
       "   '1006-session_~NBose0.33727257823027346': {'session_id': 'session_~NBose0.33727257823027346',\n",
       "    'product_id': 1006,\n",
       "    'qty': 4}},\n",
       "  'orderTimestamp': '2024-07-16 21:10:45.999563',\n",
       "  'cartTotal': 18750,\n",
       "  'paidBy': 'UPI'}]"
      ]
     },
     "execution_count": 295,
     "metadata": {},
     "output_type": "execute_result"
    }
   ],
   "source": [
    "usersession_NBose.checkoutSession(\"UPI\")"
   ]
  },
  {
   "cell_type": "code",
   "execution_count": 296,
   "id": "bf018305",
   "metadata": {},
   "outputs": [
    {
     "name": "stdout",
     "output_type": "stream",
     "text": [
      "yes\n"
     ]
    }
   ],
   "source": [
    "for k,v in user_type_db.items():\n",
    "    if k==\"NBose\" and v=='admin':\n",
    "        print(\"yes\")\n",
    "    \n",
    "    "
   ]
  },
  {
   "cell_type": "code",
   "execution_count": 297,
   "id": "9ceb6d88",
   "metadata": {},
   "outputs": [],
   "source": [
    "usersession_NBose.addProductsToCatalog(\"Nike Runner Pro Major\",\"cat_1\",\"1000\")"
   ]
  },
  {
   "cell_type": "code",
   "execution_count": 298,
   "id": "7094c336",
   "metadata": {},
   "outputs": [
    {
     "data": {
      "text/plain": [
       "[{'product_id': 1001,\n",
       "  'product_name': 'Adidas Running Pro',\n",
       "  'product_category': 'cat_1',\n",
       "  'cost': 1000},\n",
       " {'product_id': 1002,\n",
       "  'product_name': 'John Jacobs Beanie Cap',\n",
       "  'product_category': 'cat_4',\n",
       "  'cost': 200},\n",
       " {'product_id': 1003,\n",
       "  'product_name': 'Nike Jordan 1',\n",
       "  'product_category': 'cat_1',\n",
       "  'cost': 2500},\n",
       " {'product_id': 1004,\n",
       "  'product_name': 'Cole Haan Mens Laces',\n",
       "  'product_category': 'cat_1',\n",
       "  'cost': 4000},\n",
       " {'product_id': 1005,\n",
       "  'product_name': 'Blackberry Red Jacket',\n",
       "  'product_category': 'cat_3',\n",
       "  'cost': 1250},\n",
       " {'product_id': 1006,\n",
       "  'product_name': 'Armani EX Col Coat',\n",
       "  'product_category': 'cat_2',\n",
       "  'cost': 4500},\n",
       " {'product_id': 1007,\n",
       "  'product_name': 'Nike Tennis Cap',\n",
       "  'product_category': 'cat_4',\n",
       "  'cost': 300},\n",
       " {'product_id': 1008,\n",
       "  'product_name': 'Ralh Lauren Jacket',\n",
       "  'product_category': 'cat_3',\n",
       "  'cost': 5000},\n",
       " {'product_id': 1009,\n",
       "  'product_name': 'Park Avenue Blue Blazer',\n",
       "  'product_category': 'cat_2',\n",
       "  'cost': '750'},\n",
       " {'product_id': 1010,\n",
       "  'product_name': 'USPA Golf Cap',\n",
       "  'product_category': 'cat_4',\n",
       "  'cost': 150},\n",
       " {'product_id': 9778451,\n",
       "  'product_name': 'Nike Runner Pro Major',\n",
       "  'product_category': 'cat_1',\n",
       "  'cost': '1000'}]"
      ]
     },
     "execution_count": 298,
     "metadata": {},
     "output_type": "execute_result"
    }
   ],
   "source": [
    "products"
   ]
  },
  {
   "cell_type": "code",
   "execution_count": 299,
   "id": "a3d4199a",
   "metadata": {},
   "outputs": [],
   "source": [
    "usersession_NBose.removeProductFromCatalog(8410218)"
   ]
  },
  {
   "cell_type": "code",
   "execution_count": 300,
   "id": "41aa7da4",
   "metadata": {},
   "outputs": [
    {
     "data": {
      "text/plain": [
       "[{'product_id': 1001,\n",
       "  'product_name': 'Adidas Running Pro',\n",
       "  'product_category': 'cat_1',\n",
       "  'cost': 1000},\n",
       " {'product_id': 1002,\n",
       "  'product_name': 'John Jacobs Beanie Cap',\n",
       "  'product_category': 'cat_4',\n",
       "  'cost': 200},\n",
       " {'product_id': 1003,\n",
       "  'product_name': 'Nike Jordan 1',\n",
       "  'product_category': 'cat_1',\n",
       "  'cost': 2500},\n",
       " {'product_id': 1004,\n",
       "  'product_name': 'Cole Haan Mens Laces',\n",
       "  'product_category': 'cat_1',\n",
       "  'cost': 4000},\n",
       " {'product_id': 1005,\n",
       "  'product_name': 'Blackberry Red Jacket',\n",
       "  'product_category': 'cat_3',\n",
       "  'cost': 1250},\n",
       " {'product_id': 1006,\n",
       "  'product_name': 'Armani EX Col Coat',\n",
       "  'product_category': 'cat_2',\n",
       "  'cost': 4500},\n",
       " {'product_id': 1007,\n",
       "  'product_name': 'Nike Tennis Cap',\n",
       "  'product_category': 'cat_4',\n",
       "  'cost': 300},\n",
       " {'product_id': 1008,\n",
       "  'product_name': 'Ralh Lauren Jacket',\n",
       "  'product_category': 'cat_3',\n",
       "  'cost': 5000},\n",
       " {'product_id': 1009,\n",
       "  'product_name': 'Park Avenue Blue Blazer',\n",
       "  'product_category': 'cat_2',\n",
       "  'cost': '750'},\n",
       " {'product_id': 1010,\n",
       "  'product_name': 'USPA Golf Cap',\n",
       "  'product_category': 'cat_4',\n",
       "  'cost': 150},\n",
       " {'product_id': 9778451,\n",
       "  'product_name': 'Nike Runner Pro Major',\n",
       "  'product_category': 'cat_1',\n",
       "  'cost': '1000'}]"
      ]
     },
     "execution_count": 300,
     "metadata": {},
     "output_type": "execute_result"
    }
   ],
   "source": [
    "products"
   ]
  },
  {
   "cell_type": "code",
   "execution_count": null,
   "id": "be9fb2cc",
   "metadata": {},
   "outputs": [],
   "source": []
  },
  {
   "cell_type": "code",
   "execution_count": null,
   "id": "597153bf",
   "metadata": {},
   "outputs": [],
   "source": []
  }
 ],
 "metadata": {
  "kernelspec": {
   "display_name": "Python 3 (ipykernel)",
   "language": "python",
   "name": "python3"
  },
  "language_info": {
   "codemirror_mode": {
    "name": "ipython",
    "version": 3
   },
   "file_extension": ".py",
   "mimetype": "text/x-python",
   "name": "python",
   "nbconvert_exporter": "python",
   "pygments_lexer": "ipython3",
   "version": "3.11.4"
  }
 },
 "nbformat": 4,
 "nbformat_minor": 5
}
