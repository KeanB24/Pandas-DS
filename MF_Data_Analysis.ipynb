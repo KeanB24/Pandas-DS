{
 "cells": [
  {
   "cell_type": "code",
   "execution_count": 1,
   "id": "62b29fb9",
   "metadata": {
    "execution": {
     "iopub.execute_input": "2024-08-31T13:51:17.843532Z",
     "iopub.status.busy": "2024-08-31T13:51:17.843106Z",
     "iopub.status.idle": "2024-08-31T13:52:03.246003Z",
     "shell.execute_reply": "2024-08-31T13:52:03.244751Z"
    },
    "papermill": {
     "duration": 45.416668,
     "end_time": "2024-08-31T13:52:03.248772",
     "exception": false,
     "start_time": "2024-08-31T13:51:17.832104",
     "status": "completed"
    },
    "tags": []
   },
   "outputs": [
    {
     "name": "stdout",
     "output_type": "stream",
     "text": [
      "Collecting mftool\r\n",
      "  Downloading mftool-2.8.tar.gz (112 kB)\r\n",
      "\u001b[2K     \u001b[90m━━━━━━━━━━━━━━━━━━━━━━━━━━━━━━━━━━━━━━━\u001b[0m \u001b[32m112.2/112.2 kB\u001b[0m \u001b[31m1.2 MB/s\u001b[0m eta \u001b[36m0:00:00\u001b[0m\r\n",
      "\u001b[?25h  Preparing metadata (setup.py) ... \u001b[?25l-\b \bdone\r\n",
      "\u001b[?25hRequirement already satisfied: requests in /opt/conda/lib/python3.10/site-packages (from mftool) (2.32.3)\r\n",
      "Collecting bs4 (from mftool)\r\n",
      "  Downloading bs4-0.0.2-py2.py3-none-any.whl.metadata (411 bytes)\r\n",
      "Requirement already satisfied: httpx in /opt/conda/lib/python3.10/site-packages (from mftool) (0.27.0)\r\n",
      "Requirement already satisfied: pandas in /opt/conda/lib/python3.10/site-packages (from mftool) (2.2.2)\r\n",
      "Collecting yfinance (from mftool)\r\n",
      "  Downloading yfinance-0.2.43-py2.py3-none-any.whl.metadata (11 kB)\r\n",
      "Requirement already satisfied: Deprecated in /opt/conda/lib/python3.10/site-packages (from mftool) (1.2.14)\r\n",
      "Requirement already satisfied: beautifulsoup4 in /opt/conda/lib/python3.10/site-packages (from bs4->mftool) (4.12.3)\r\n",
      "Requirement already satisfied: wrapt<2,>=1.10 in /opt/conda/lib/python3.10/site-packages (from Deprecated->mftool) (1.16.0)\r\n",
      "Requirement already satisfied: anyio in /opt/conda/lib/python3.10/site-packages (from httpx->mftool) (4.4.0)\r\n",
      "Requirement already satisfied: certifi in /opt/conda/lib/python3.10/site-packages (from httpx->mftool) (2024.7.4)\r\n",
      "Requirement already satisfied: httpcore==1.* in /opt/conda/lib/python3.10/site-packages (from httpx->mftool) (1.0.5)\r\n",
      "Requirement already satisfied: idna in /opt/conda/lib/python3.10/site-packages (from httpx->mftool) (3.7)\r\n",
      "Requirement already satisfied: sniffio in /opt/conda/lib/python3.10/site-packages (from httpx->mftool) (1.3.1)\r\n",
      "Requirement already satisfied: h11<0.15,>=0.13 in /opt/conda/lib/python3.10/site-packages (from httpcore==1.*->httpx->mftool) (0.14.0)\r\n",
      "Requirement already satisfied: numpy>=1.22.4 in /opt/conda/lib/python3.10/site-packages (from pandas->mftool) (1.26.4)\r\n",
      "Requirement already satisfied: python-dateutil>=2.8.2 in /opt/conda/lib/python3.10/site-packages (from pandas->mftool) (2.9.0.post0)\r\n",
      "Requirement already satisfied: pytz>=2020.1 in /opt/conda/lib/python3.10/site-packages (from pandas->mftool) (2024.1)\r\n",
      "Requirement already satisfied: tzdata>=2022.7 in /opt/conda/lib/python3.10/site-packages (from pandas->mftool) (2024.1)\r\n",
      "Requirement already satisfied: charset-normalizer<4,>=2 in /opt/conda/lib/python3.10/site-packages (from requests->mftool) (3.3.2)\r\n",
      "Requirement already satisfied: urllib3<3,>=1.21.1 in /opt/conda/lib/python3.10/site-packages (from requests->mftool) (1.26.18)\r\n",
      "Collecting multitasking>=0.0.7 (from yfinance->mftool)\r\n",
      "  Downloading multitasking-0.0.11-py3-none-any.whl.metadata (5.5 kB)\r\n",
      "Requirement already satisfied: lxml>=4.9.1 in /opt/conda/lib/python3.10/site-packages (from yfinance->mftool) (5.3.0)\r\n",
      "Requirement already satisfied: platformdirs>=2.0.0 in /opt/conda/lib/python3.10/site-packages (from yfinance->mftool) (3.11.0)\r\n",
      "Requirement already satisfied: frozendict>=2.3.4 in /opt/conda/lib/python3.10/site-packages (from yfinance->mftool) (2.4.4)\r\n",
      "Collecting peewee>=3.16.2 (from yfinance->mftool)\r\n",
      "  Downloading peewee-3.17.6.tar.gz (3.0 MB)\r\n",
      "\u001b[2K     \u001b[90m━━━━━━━━━━━━━━━━━━━━━━━━━━━━━━━━━━━━━━━━\u001b[0m \u001b[32m3.0/3.0 MB\u001b[0m \u001b[31m17.3 MB/s\u001b[0m eta \u001b[36m0:00:00\u001b[0m\r\n",
      "\u001b[?25h  Installing build dependencies ... \u001b[?25l-\b \b\\\b \b|\b \b/\b \b-\b \b\\\b \bdone\r\n",
      "\u001b[?25h  Getting requirements to build wheel ... \u001b[?25l-\b \bdone\r\n",
      "\u001b[?25h  Preparing metadata (pyproject.toml) ... \u001b[?25l-\b \bdone\r\n",
      "\u001b[?25hRequirement already satisfied: html5lib>=1.1 in /opt/conda/lib/python3.10/site-packages (from yfinance->mftool) (1.1)\r\n",
      "Requirement already satisfied: soupsieve>1.2 in /opt/conda/lib/python3.10/site-packages (from beautifulsoup4->bs4->mftool) (2.5)\r\n",
      "Requirement already satisfied: six>=1.9 in /opt/conda/lib/python3.10/site-packages (from html5lib>=1.1->yfinance->mftool) (1.16.0)\r\n",
      "Requirement already satisfied: webencodings in /opt/conda/lib/python3.10/site-packages (from html5lib>=1.1->yfinance->mftool) (0.5.1)\r\n",
      "Requirement already satisfied: exceptiongroup>=1.0.2 in /opt/conda/lib/python3.10/site-packages (from anyio->httpx->mftool) (1.2.0)\r\n",
      "Requirement already satisfied: typing-extensions>=4.1 in /opt/conda/lib/python3.10/site-packages (from anyio->httpx->mftool) (4.12.2)\r\n",
      "Downloading bs4-0.0.2-py2.py3-none-any.whl (1.2 kB)\r\n",
      "Downloading yfinance-0.2.43-py2.py3-none-any.whl (84 kB)\r\n",
      "\u001b[2K   \u001b[90m━━━━━━━━━━━━━━━━━━━━━━━━━━━━━━━━━━━━━━━━\u001b[0m \u001b[32m84.6/84.6 kB\u001b[0m \u001b[31m4.7 MB/s\u001b[0m eta \u001b[36m0:00:00\u001b[0m\r\n",
      "\u001b[?25hDownloading multitasking-0.0.11-py3-none-any.whl (8.5 kB)\r\n",
      "Building wheels for collected packages: mftool, peewee\r\n",
      "  Building wheel for mftool (setup.py) ... \u001b[?25l-\b \b\\\b \bdone\r\n",
      "\u001b[?25h  Created wheel for mftool: filename=mftool-2.8-py3-none-any.whl size=116617 sha256=b53aa76bd12ed236a9343dc60453738e32814cda78ecf1048e3962ac66092761\r\n",
      "  Stored in directory: /root/.cache/pip/wheels/b6/b3/af/5751d41db5452227e221aaca7f1ec823caa51ae7d40fb9dbde\r\n",
      "  Building wheel for peewee (pyproject.toml) ... \u001b[?25l-\b \b\\\b \b|\b \b/\b \bdone\r\n",
      "\u001b[?25h  Created wheel for peewee: filename=peewee-3.17.6-cp310-cp310-linux_x86_64.whl size=293633 sha256=b603beab9b76ef5d5eb47854a5792becee313d43098f9e3ad94d4b35adef8964\r\n",
      "  Stored in directory: /root/.cache/pip/wheels/4b/b9/b0/83d6e258e8f963f5ff111a2cd8c483ca59372a86e6a2535212\r\n",
      "Successfully built mftool peewee\r\n",
      "Installing collected packages: peewee, multitasking, bs4, yfinance, mftool\r\n",
      "Successfully installed bs4-0.0.2 mftool-2.8 multitasking-0.0.11 peewee-3.17.6 yfinance-0.2.43\r\n"
     ]
    }
   ],
   "source": [
    "!pip install mftool"
   ]
  },
  {
   "cell_type": "code",
   "execution_count": 2,
   "id": "60e4a1a1",
   "metadata": {
    "execution": {
     "iopub.execute_input": "2024-08-31T13:52:03.275222Z",
     "iopub.status.busy": "2024-08-31T13:52:03.274810Z",
     "iopub.status.idle": "2024-08-31T13:52:05.830291Z",
     "shell.execute_reply": "2024-08-31T13:52:05.829410Z"
    },
    "papermill": {
     "duration": 2.571657,
     "end_time": "2024-08-31T13:52:05.832910",
     "exception": false,
     "start_time": "2024-08-31T13:52:03.261253",
     "status": "completed"
    },
    "tags": []
   },
   "outputs": [],
   "source": [
    "import pandas as pd\n",
    "import numpy as np\n",
    "from mftool import Mftool\n",
    "import seaborn as sns\n",
    "import matplotlib.pyplot as plt\n",
    "from datetime import date, timedelta, datetime as dt\n",
    "# %matplotlib notebook"
   ]
  },
  {
   "cell_type": "code",
   "execution_count": 3,
   "id": "67316263",
   "metadata": {
    "execution": {
     "iopub.execute_input": "2024-08-31T13:52:05.860245Z",
     "iopub.status.busy": "2024-08-31T13:52:05.859284Z",
     "iopub.status.idle": "2024-08-31T13:52:05.863794Z",
     "shell.execute_reply": "2024-08-31T13:52:05.862741Z"
    },
    "papermill": {
     "duration": 0.020594,
     "end_time": "2024-08-31T13:52:05.866081",
     "exception": false,
     "start_time": "2024-08-31T13:52:05.845487",
     "status": "completed"
    },
    "tags": []
   },
   "outputs": [],
   "source": [
    "# %matplotlib notebook\n",
    "# from ipywidgets import *"
   ]
  },
  {
   "cell_type": "code",
   "execution_count": 4,
   "id": "cc479e17",
   "metadata": {
    "execution": {
     "iopub.execute_input": "2024-08-31T13:52:05.892192Z",
     "iopub.status.busy": "2024-08-31T13:52:05.891530Z",
     "iopub.status.idle": "2024-08-31T13:52:08.008270Z",
     "shell.execute_reply": "2024-08-31T13:52:08.007242Z"
    },
    "papermill": {
     "duration": 2.132443,
     "end_time": "2024-08-31T13:52:08.010821",
     "exception": false,
     "start_time": "2024-08-31T13:52:05.878378",
     "status": "completed"
    },
    "tags": []
   },
   "outputs": [],
   "source": [
    "mf=Mftool()"
   ]
  },
  {
   "cell_type": "code",
   "execution_count": 5,
   "id": "b82b3518",
   "metadata": {
    "execution": {
     "iopub.execute_input": "2024-08-31T13:52:08.037897Z",
     "iopub.status.busy": "2024-08-31T13:52:08.037012Z",
     "iopub.status.idle": "2024-08-31T13:52:08.583720Z",
     "shell.execute_reply": "2024-08-31T13:52:08.582810Z"
    },
    "papermill": {
     "duration": 0.562899,
     "end_time": "2024-08-31T13:52:08.586287",
     "exception": false,
     "start_time": "2024-08-31T13:52:08.023388",
     "status": "completed"
    },
    "tags": []
   },
   "outputs": [],
   "source": [
    "schemes=mf.get_available_schemes('bandhan')"
   ]
  },
  {
   "cell_type": "code",
   "execution_count": 6,
   "id": "46529d7a",
   "metadata": {
    "execution": {
     "iopub.execute_input": "2024-08-31T13:52:08.614441Z",
     "iopub.status.busy": "2024-08-31T13:52:08.614031Z",
     "iopub.status.idle": "2024-08-31T13:52:08.618636Z",
     "shell.execute_reply": "2024-08-31T13:52:08.617605Z"
    },
    "papermill": {
     "duration": 0.021041,
     "end_time": "2024-08-31T13:52:08.620818",
     "exception": false,
     "start_time": "2024-08-31T13:52:08.599777",
     "status": "completed"
    },
    "tags": []
   },
   "outputs": [],
   "source": [
    "# schemes"
   ]
  },
  {
   "cell_type": "code",
   "execution_count": 7,
   "id": "a91a3517",
   "metadata": {
    "execution": {
     "iopub.execute_input": "2024-08-31T13:52:08.648515Z",
     "iopub.status.busy": "2024-08-31T13:52:08.647795Z",
     "iopub.status.idle": "2024-08-31T13:52:09.796959Z",
     "shell.execute_reply": "2024-08-31T13:52:09.795498Z"
    },
    "papermill": {
     "duration": 1.165681,
     "end_time": "2024-08-31T13:52:09.799304",
     "exception": false,
     "start_time": "2024-08-31T13:52:08.633623",
     "status": "completed"
    },
    "tags": []
   },
   "outputs": [
    {
     "name": "stdout",
     "output_type": "stream",
     "text": [
      "{'scheme_code': '147946', 'scheme_name': 'BANDHAN SMALL CAP FUND - DIRECT PLAN GROWTH', 'last_updated': '30-Aug-2024', 'nav': '50.841'}\n",
      "{'fund_house': 'Bandhan Mutual Fund', 'scheme_type': 'Open Ended Schemes', 'scheme_category': 'Equity Scheme - Small Cap Fund', 'scheme_code': 147946, 'scheme_name': 'BANDHAN SMALL CAP FUND - DIRECT PLAN GROWTH', 'scheme_start_date': {'date': '26-02-2020', 'nav': '10.00000'}}\n"
     ]
    }
   ],
   "source": [
    "# '147946': 'BANDHAN SMALL CAP FUND - DIRECT PLAN GROWTH',\n",
    "sch_code, sch_name='147946','BANDHAN SMALL CAP FUND - DIRECT PLAN GROWTH'\n",
    "\n",
    "\n",
    "d1 = mf.get_scheme_quote(sch_code)\n",
    "d2 = mf.get_scheme_details(sch_code)\n",
    "print(d1)\n",
    "print(d2)"
   ]
  },
  {
   "cell_type": "code",
   "execution_count": 8,
   "id": "8fb71811",
   "metadata": {
    "execution": {
     "iopub.execute_input": "2024-08-31T13:52:09.826660Z",
     "iopub.status.busy": "2024-08-31T13:52:09.825989Z",
     "iopub.status.idle": "2024-08-31T13:52:10.194825Z",
     "shell.execute_reply": "2024-08-31T13:52:10.193710Z"
    },
    "papermill": {
     "duration": 0.38531,
     "end_time": "2024-08-31T13:52:10.197500",
     "exception": false,
     "start_time": "2024-08-31T13:52:09.812190",
     "status": "completed"
    },
    "tags": []
   },
   "outputs": [],
   "source": [
    "df = mf.get_scheme_historical_nav(sch_code,as_Dataframe=True).reset_index()"
   ]
  },
  {
   "cell_type": "code",
   "execution_count": 9,
   "id": "df49c31f",
   "metadata": {
    "execution": {
     "iopub.execute_input": "2024-08-31T13:52:10.223530Z",
     "iopub.status.busy": "2024-08-31T13:52:10.223040Z",
     "iopub.status.idle": "2024-08-31T13:52:10.244735Z",
     "shell.execute_reply": "2024-08-31T13:52:10.243535Z"
    },
    "papermill": {
     "duration": 0.037821,
     "end_time": "2024-08-31T13:52:10.247519",
     "exception": false,
     "start_time": "2024-08-31T13:52:10.209698",
     "status": "completed"
    },
    "tags": []
   },
   "outputs": [
    {
     "name": "stdout",
     "output_type": "stream",
     "text": [
      "<class 'pandas.core.frame.DataFrame'>\n",
      "RangeIndex: 1113 entries, 0 to 1112\n",
      "Data columns (total 3 columns):\n",
      " #   Column     Non-Null Count  Dtype  \n",
      "---  ------     --------------  -----  \n",
      " 0   date       1113 non-null   object \n",
      " 1   nav        1113 non-null   object \n",
      " 2   dayChange  1112 non-null   float64\n",
      "dtypes: float64(1), object(2)\n",
      "memory usage: 26.2+ KB\n"
     ]
    }
   ],
   "source": [
    "df.info()"
   ]
  },
  {
   "cell_type": "code",
   "execution_count": 10,
   "id": "e5519e92",
   "metadata": {
    "execution": {
     "iopub.execute_input": "2024-08-31T13:52:10.274412Z",
     "iopub.status.busy": "2024-08-31T13:52:10.273985Z",
     "iopub.status.idle": "2024-08-31T13:52:10.290784Z",
     "shell.execute_reply": "2024-08-31T13:52:10.289755Z"
    },
    "papermill": {
     "duration": 0.033039,
     "end_time": "2024-08-31T13:52:10.293165",
     "exception": false,
     "start_time": "2024-08-31T13:52:10.260126",
     "status": "completed"
    },
    "tags": []
   },
   "outputs": [
    {
     "name": "stderr",
     "output_type": "stream",
     "text": [
      "/tmp/ipykernel_17/1099506490.py:1: UserWarning: Parsing dates in %d-%m-%Y format when dayfirst=False (the default) was specified. Pass `dayfirst=True` or specify a format to silence this warning.\n",
      "  df['date']=pd.to_datetime(df.date)\n"
     ]
    }
   ],
   "source": [
    "df['date']=pd.to_datetime(df.date)"
   ]
  },
  {
   "cell_type": "code",
   "execution_count": 11,
   "id": "b019767c",
   "metadata": {
    "execution": {
     "iopub.execute_input": "2024-08-31T13:52:10.321101Z",
     "iopub.status.busy": "2024-08-31T13:52:10.320708Z",
     "iopub.status.idle": "2024-08-31T13:52:10.334223Z",
     "shell.execute_reply": "2024-08-31T13:52:10.333290Z"
    },
    "papermill": {
     "duration": 0.02991,
     "end_time": "2024-08-31T13:52:10.336405",
     "exception": false,
     "start_time": "2024-08-31T13:52:10.306495",
     "status": "completed"
    },
    "tags": []
   },
   "outputs": [],
   "source": [
    "\n",
    "mf_df=df[(df.date.dt.date<=date.today()) & (df.date.dt.date>date.today()+timedelta(days=-90))].sort_values(by='date').copy()"
   ]
  },
  {
   "cell_type": "code",
   "execution_count": 12,
   "id": "dd1d1942",
   "metadata": {
    "execution": {
     "iopub.execute_input": "2024-08-31T13:52:10.364498Z",
     "iopub.status.busy": "2024-08-31T13:52:10.363656Z",
     "iopub.status.idle": "2024-08-31T13:52:10.369302Z",
     "shell.execute_reply": "2024-08-31T13:52:10.368275Z"
    },
    "papermill": {
     "duration": 0.022,
     "end_time": "2024-08-31T13:52:10.371463",
     "exception": false,
     "start_time": "2024-08-31T13:52:10.349463",
     "status": "completed"
    },
    "tags": []
   },
   "outputs": [],
   "source": [
    "mf_df.set_index(\"date\",inplace=True)"
   ]
  },
  {
   "cell_type": "code",
   "execution_count": 13,
   "id": "185cafca",
   "metadata": {
    "execution": {
     "iopub.execute_input": "2024-08-31T13:52:10.398692Z",
     "iopub.status.busy": "2024-08-31T13:52:10.398258Z",
     "iopub.status.idle": "2024-08-31T13:52:10.415960Z",
     "shell.execute_reply": "2024-08-31T13:52:10.414975Z"
    },
    "papermill": {
     "duration": 0.033862,
     "end_time": "2024-08-31T13:52:10.418487",
     "exception": false,
     "start_time": "2024-08-31T13:52:10.384625",
     "status": "completed"
    },
    "tags": []
   },
   "outputs": [
    {
     "data": {
      "text/html": [
       "<div>\n",
       "<style scoped>\n",
       "    .dataframe tbody tr th:only-of-type {\n",
       "        vertical-align: middle;\n",
       "    }\n",
       "\n",
       "    .dataframe tbody tr th {\n",
       "        vertical-align: top;\n",
       "    }\n",
       "\n",
       "    .dataframe thead th {\n",
       "        text-align: right;\n",
       "    }\n",
       "</style>\n",
       "<table border=\"1\" class=\"dataframe\">\n",
       "  <thead>\n",
       "    <tr style=\"text-align: right;\">\n",
       "      <th></th>\n",
       "      <th>nav</th>\n",
       "      <th>dayChange</th>\n",
       "    </tr>\n",
       "    <tr>\n",
       "      <th>date</th>\n",
       "      <th></th>\n",
       "      <th></th>\n",
       "    </tr>\n",
       "  </thead>\n",
       "  <tbody>\n",
       "    <tr>\n",
       "      <th>2024-06-03</th>\n",
       "      <td>41.11200</td>\n",
       "      <td>0.739</td>\n",
       "    </tr>\n",
       "    <tr>\n",
       "      <th>2024-06-04</th>\n",
       "      <td>38.50000</td>\n",
       "      <td>-2.612</td>\n",
       "    </tr>\n",
       "    <tr>\n",
       "      <th>2024-06-05</th>\n",
       "      <td>39.77300</td>\n",
       "      <td>1.273</td>\n",
       "    </tr>\n",
       "    <tr>\n",
       "      <th>2024-06-06</th>\n",
       "      <td>40.76100</td>\n",
       "      <td>0.988</td>\n",
       "    </tr>\n",
       "    <tr>\n",
       "      <th>2024-06-07</th>\n",
       "      <td>41.70700</td>\n",
       "      <td>0.946</td>\n",
       "    </tr>\n",
       "    <tr>\n",
       "      <th>...</th>\n",
       "      <td>...</td>\n",
       "      <td>...</td>\n",
       "    </tr>\n",
       "    <tr>\n",
       "      <th>2024-08-26</th>\n",
       "      <td>50.24600</td>\n",
       "      <td>0.172</td>\n",
       "    </tr>\n",
       "    <tr>\n",
       "      <th>2024-08-27</th>\n",
       "      <td>50.53500</td>\n",
       "      <td>0.289</td>\n",
       "    </tr>\n",
       "    <tr>\n",
       "      <th>2024-08-28</th>\n",
       "      <td>50.60200</td>\n",
       "      <td>0.067</td>\n",
       "    </tr>\n",
       "    <tr>\n",
       "      <th>2024-08-29</th>\n",
       "      <td>50.33300</td>\n",
       "      <td>-0.269</td>\n",
       "    </tr>\n",
       "    <tr>\n",
       "      <th>2024-08-30</th>\n",
       "      <td>50.84100</td>\n",
       "      <td>0.508</td>\n",
       "    </tr>\n",
       "  </tbody>\n",
       "</table>\n",
       "<p>63 rows × 2 columns</p>\n",
       "</div>"
      ],
      "text/plain": [
       "                 nav  dayChange\n",
       "date                           \n",
       "2024-06-03  41.11200      0.739\n",
       "2024-06-04  38.50000     -2.612\n",
       "2024-06-05  39.77300      1.273\n",
       "2024-06-06  40.76100      0.988\n",
       "2024-06-07  41.70700      0.946\n",
       "...              ...        ...\n",
       "2024-08-26  50.24600      0.172\n",
       "2024-08-27  50.53500      0.289\n",
       "2024-08-28  50.60200      0.067\n",
       "2024-08-29  50.33300     -0.269\n",
       "2024-08-30  50.84100      0.508\n",
       "\n",
       "[63 rows x 2 columns]"
      ]
     },
     "execution_count": 13,
     "metadata": {},
     "output_type": "execute_result"
    }
   ],
   "source": [
    "mf_df"
   ]
  },
  {
   "cell_type": "code",
   "execution_count": 14,
   "id": "a28e92d2",
   "metadata": {
    "execution": {
     "iopub.execute_input": "2024-08-31T13:52:10.446613Z",
     "iopub.status.busy": "2024-08-31T13:52:10.446168Z",
     "iopub.status.idle": "2024-08-31T13:52:10.451433Z",
     "shell.execute_reply": "2024-08-31T13:52:10.450509Z"
    },
    "papermill": {
     "duration": 0.021925,
     "end_time": "2024-08-31T13:52:10.453574",
     "exception": false,
     "start_time": "2024-08-31T13:52:10.431649",
     "status": "completed"
    },
    "tags": []
   },
   "outputs": [],
   "source": [
    "mf_df[\"nav\"]=mf_df.nav.astype(float)"
   ]
  },
  {
   "cell_type": "code",
   "execution_count": 15,
   "id": "1e7384eb",
   "metadata": {
    "execution": {
     "iopub.execute_input": "2024-08-31T13:52:10.481799Z",
     "iopub.status.busy": "2024-08-31T13:52:10.480711Z",
     "iopub.status.idle": "2024-08-31T13:52:10.485954Z",
     "shell.execute_reply": "2024-08-31T13:52:10.485110Z"
    },
    "papermill": {
     "duration": 0.02144,
     "end_time": "2024-08-31T13:52:10.488119",
     "exception": false,
     "start_time": "2024-08-31T13:52:10.466679",
     "status": "completed"
    },
    "tags": []
   },
   "outputs": [],
   "source": [
    "mf_df.sort_values(by=\"date\",inplace=True)"
   ]
  },
  {
   "cell_type": "code",
   "execution_count": 16,
   "id": "46f39825",
   "metadata": {
    "execution": {
     "iopub.execute_input": "2024-08-31T13:52:10.516224Z",
     "iopub.status.busy": "2024-08-31T13:52:10.515812Z",
     "iopub.status.idle": "2024-08-31T13:52:10.529543Z",
     "shell.execute_reply": "2024-08-31T13:52:10.528533Z"
    },
    "papermill": {
     "duration": 0.030455,
     "end_time": "2024-08-31T13:52:10.531798",
     "exception": false,
     "start_time": "2024-08-31T13:52:10.501343",
     "status": "completed"
    },
    "tags": []
   },
   "outputs": [
    {
     "data": {
      "text/html": [
       "<div>\n",
       "<style scoped>\n",
       "    .dataframe tbody tr th:only-of-type {\n",
       "        vertical-align: middle;\n",
       "    }\n",
       "\n",
       "    .dataframe tbody tr th {\n",
       "        vertical-align: top;\n",
       "    }\n",
       "\n",
       "    .dataframe thead th {\n",
       "        text-align: right;\n",
       "    }\n",
       "</style>\n",
       "<table border=\"1\" class=\"dataframe\">\n",
       "  <thead>\n",
       "    <tr style=\"text-align: right;\">\n",
       "      <th></th>\n",
       "      <th>nav</th>\n",
       "      <th>dayChange</th>\n",
       "    </tr>\n",
       "    <tr>\n",
       "      <th>date</th>\n",
       "      <th></th>\n",
       "      <th></th>\n",
       "    </tr>\n",
       "  </thead>\n",
       "  <tbody>\n",
       "    <tr>\n",
       "      <th>2024-06-03</th>\n",
       "      <td>41.112</td>\n",
       "      <td>0.739</td>\n",
       "    </tr>\n",
       "    <tr>\n",
       "      <th>2024-06-04</th>\n",
       "      <td>38.500</td>\n",
       "      <td>-2.612</td>\n",
       "    </tr>\n",
       "    <tr>\n",
       "      <th>2024-06-05</th>\n",
       "      <td>39.773</td>\n",
       "      <td>1.273</td>\n",
       "    </tr>\n",
       "    <tr>\n",
       "      <th>2024-06-06</th>\n",
       "      <td>40.761</td>\n",
       "      <td>0.988</td>\n",
       "    </tr>\n",
       "    <tr>\n",
       "      <th>2024-06-07</th>\n",
       "      <td>41.707</td>\n",
       "      <td>0.946</td>\n",
       "    </tr>\n",
       "    <tr>\n",
       "      <th>...</th>\n",
       "      <td>...</td>\n",
       "      <td>...</td>\n",
       "    </tr>\n",
       "    <tr>\n",
       "      <th>2024-08-26</th>\n",
       "      <td>50.246</td>\n",
       "      <td>0.172</td>\n",
       "    </tr>\n",
       "    <tr>\n",
       "      <th>2024-08-27</th>\n",
       "      <td>50.535</td>\n",
       "      <td>0.289</td>\n",
       "    </tr>\n",
       "    <tr>\n",
       "      <th>2024-08-28</th>\n",
       "      <td>50.602</td>\n",
       "      <td>0.067</td>\n",
       "    </tr>\n",
       "    <tr>\n",
       "      <th>2024-08-29</th>\n",
       "      <td>50.333</td>\n",
       "      <td>-0.269</td>\n",
       "    </tr>\n",
       "    <tr>\n",
       "      <th>2024-08-30</th>\n",
       "      <td>50.841</td>\n",
       "      <td>0.508</td>\n",
       "    </tr>\n",
       "  </tbody>\n",
       "</table>\n",
       "<p>63 rows × 2 columns</p>\n",
       "</div>"
      ],
      "text/plain": [
       "               nav  dayChange\n",
       "date                         \n",
       "2024-06-03  41.112      0.739\n",
       "2024-06-04  38.500     -2.612\n",
       "2024-06-05  39.773      1.273\n",
       "2024-06-06  40.761      0.988\n",
       "2024-06-07  41.707      0.946\n",
       "...            ...        ...\n",
       "2024-08-26  50.246      0.172\n",
       "2024-08-27  50.535      0.289\n",
       "2024-08-28  50.602      0.067\n",
       "2024-08-29  50.333     -0.269\n",
       "2024-08-30  50.841      0.508\n",
       "\n",
       "[63 rows x 2 columns]"
      ]
     },
     "execution_count": 16,
     "metadata": {},
     "output_type": "execute_result"
    }
   ],
   "source": [
    "mf_df"
   ]
  },
  {
   "cell_type": "code",
   "execution_count": 17,
   "id": "49ecca4b",
   "metadata": {
    "execution": {
     "iopub.execute_input": "2024-08-31T13:52:10.560800Z",
     "iopub.status.busy": "2024-08-31T13:52:10.559950Z",
     "iopub.status.idle": "2024-08-31T13:52:16.323363Z",
     "shell.execute_reply": "2024-08-31T13:52:16.322292Z"
    },
    "papermill": {
     "duration": 5.781673,
     "end_time": "2024-08-31T13:52:16.326848",
     "exception": false,
     "start_time": "2024-08-31T13:52:10.545175",
     "status": "completed"
    },
    "tags": []
   },
   "outputs": [
    {
     "data": {
      "image/png": "[encoded data removed]",
      "text/plain": [
       "<Figure size 1200x1200 with 1 Axes>"
      ]
     },
     "metadata": {},
     "output_type": "display_data"
    }
   ],
   "source": [
    "plt.figure(figsize=(12,12))\n",
    "plt.plot(df['nav'],label='Historical Nav')\n",
    "plt.show()\n"
   ]
  },
  {
   "cell_type": "code",
   "execution_count": 18,
   "id": "fde63006",
   "metadata": {
    "execution": {
     "iopub.execute_input": "2024-08-31T13:52:16.359095Z",
     "iopub.status.busy": "2024-08-31T13:52:16.358341Z",
     "iopub.status.idle": "2024-08-31T13:52:16.845671Z",
     "shell.execute_reply": "2024-08-31T13:52:16.844505Z"
    },
    "papermill": {
     "duration": 0.506265,
     "end_time": "2024-08-31T13:52:16.848173",
     "exception": false,
     "start_time": "2024-08-31T13:52:16.341908",
     "status": "completed"
    },
    "tags": []
   },
   "outputs": [],
   "source": [
    "from statsmodels.tsa.arima.model import ARIMA"
   ]
  },
  {
   "cell_type": "code",
   "execution_count": 19,
   "id": "2f9c8c72",
   "metadata": {
    "execution": {
     "iopub.execute_input": "2024-08-31T13:52:16.879269Z",
     "iopub.status.busy": "2024-08-31T13:52:16.878376Z",
     "iopub.status.idle": "2024-08-31T13:52:16.891206Z",
     "shell.execute_reply": "2024-08-31T13:52:16.890160Z"
    },
    "papermill": {
     "duration": 0.030268,
     "end_time": "2024-08-31T13:52:16.893235",
     "exception": false,
     "start_time": "2024-08-31T13:52:16.862967",
     "status": "completed"
    },
    "tags": []
   },
   "outputs": [
    {
     "name": "stderr",
     "output_type": "stream",
     "text": [
      "/opt/conda/lib/python3.10/site-packages/statsmodels/tsa/base/tsa_model.py:473: ValueWarning: A date index has been provided, but it has no associated frequency information and so will be ignored when e.g. forecasting.\n",
      "  self._init_dates(dates, freq)\n",
      "/opt/conda/lib/python3.10/site-packages/statsmodels/tsa/base/tsa_model.py:473: ValueWarning: A date index has been provided, but it has no associated frequency information and so will be ignored when e.g. forecasting.\n",
      "  self._init_dates(dates, freq)\n",
      "/opt/conda/lib/python3.10/site-packages/statsmodels/tsa/base/tsa_model.py:473: ValueWarning: A date index has been provided, but it has no associated frequency information and so will be ignored when e.g. forecasting.\n",
      "  self._init_dates(dates, freq)\n"
     ]
    }
   ],
   "source": [
    "model=ARIMA(mf_df['nav'],order=(5,1,0))"
   ]
  },
  {
   "cell_type": "code",
   "execution_count": 20,
   "id": "2534029f",
   "metadata": {
    "execution": {
     "iopub.execute_input": "2024-08-31T13:52:16.923892Z",
     "iopub.status.busy": "2024-08-31T13:52:16.923203Z",
     "iopub.status.idle": "2024-08-31T13:52:17.064377Z",
     "shell.execute_reply": "2024-08-31T13:52:17.063376Z"
    },
    "papermill": {
     "duration": 0.159349,
     "end_time": "2024-08-31T13:52:17.067313",
     "exception": false,
     "start_time": "2024-08-31T13:52:16.907964",
     "status": "completed"
    },
    "tags": []
   },
   "outputs": [],
   "source": [
    "model_fit=model.fit()"
   ]
  },
  {
   "cell_type": "code",
   "execution_count": 21,
   "id": "3a5d3346",
   "metadata": {
    "execution": {
     "iopub.execute_input": "2024-08-31T13:52:17.112867Z",
     "iopub.status.busy": "2024-08-31T13:52:17.112143Z",
     "iopub.status.idle": "2024-08-31T13:52:17.124397Z",
     "shell.execute_reply": "2024-08-31T13:52:17.123363Z"
    },
    "papermill": {
     "duration": 0.038621,
     "end_time": "2024-08-31T13:52:17.127586",
     "exception": false,
     "start_time": "2024-08-31T13:52:17.088965",
     "status": "completed"
    },
    "tags": []
   },
   "outputs": [
    {
     "name": "stderr",
     "output_type": "stream",
     "text": [
      "/opt/conda/lib/python3.10/site-packages/statsmodels/tsa/base/tsa_model.py:836: ValueWarning: No supported index is available. Prediction results will be given with an integer index beginning at `start`.\n",
      "  return get_prediction_index(\n",
      "/opt/conda/lib/python3.10/site-packages/statsmodels/tsa/base/tsa_model.py:836: FutureWarning: No supported index is available. In the next version, calling this method in a model without a supported index will result in an exception.\n",
      "  return get_prediction_index(\n"
     ]
    }
   ],
   "source": [
    "forecast=model_fit.forecast(steps=30)"
   ]
  },
  {
   "cell_type": "code",
   "execution_count": 22,
   "id": "739c9219",
   "metadata": {
    "execution": {
     "iopub.execute_input": "2024-08-31T13:52:17.170562Z",
     "iopub.status.busy": "2024-08-31T13:52:17.170121Z",
     "iopub.status.idle": "2024-08-31T13:52:17.176248Z",
     "shell.execute_reply": "2024-08-31T13:52:17.175319Z"
    },
    "papermill": {
     "duration": 0.031529,
     "end_time": "2024-08-31T13:52:17.179873",
     "exception": false,
     "start_time": "2024-08-31T13:52:17.148344",
     "status": "completed"
    },
    "tags": []
   },
   "outputs": [],
   "source": [
    "forecast_dates= \\\n",
    "[mf_df.index[-1]+timedelta(days=i) for i in range(1,31)]"
   ]
  },
  {
   "cell_type": "code",
   "execution_count": 23,
   "id": "1b1714e3",
   "metadata": {
    "execution": {
     "iopub.execute_input": "2024-08-31T13:52:17.211468Z",
     "iopub.status.busy": "2024-08-31T13:52:17.210754Z",
     "iopub.status.idle": "2024-08-31T13:52:17.598766Z",
     "shell.execute_reply": "2024-08-31T13:52:17.597776Z"
    },
    "papermill": {
     "duration": 0.406364,
     "end_time": "2024-08-31T13:52:17.601224",
     "exception": false,
     "start_time": "2024-08-31T13:52:17.194860",
     "status": "completed"
    },
    "tags": []
   },
   "outputs": [
    {
     "data": {
      "text/plain": [
       "[<matplotlib.lines.Line2D at 0x79a435babac0>]"
      ]
     },
     "execution_count": 23,
     "metadata": {},
     "output_type": "execute_result"
    },
    {
     "data": {
      "image/png": "[encoded data removed]",
      "text/plain": [
       "<Figure size 1200x1200 with 1 Axes>"
      ]
     },
     "metadata": {},
     "output_type": "display_data"
    }
   ],
   "source": [
    "plt.figure(figsize=(12,12))\n",
    "plt.plot(forecast_dates,forecast,color='red',label=\"Predicted NAV\")"
   ]
  },
  {
   "cell_type": "code",
   "execution_count": 24,
   "id": "b030daf6",
   "metadata": {
    "execution": {
     "iopub.execute_input": "2024-08-31T13:52:17.636402Z",
     "iopub.status.busy": "2024-08-31T13:52:17.635898Z",
     "iopub.status.idle": "2024-08-31T13:52:17.644750Z",
     "shell.execute_reply": "2024-08-31T13:52:17.643692Z"
    },
    "papermill": {
     "duration": 0.03002,
     "end_time": "2024-08-31T13:52:17.647325",
     "exception": false,
     "start_time": "2024-08-31T13:52:17.617305",
     "status": "completed"
    },
    "tags": []
   },
   "outputs": [
    {
     "data": {
      "text/plain": [
       "63    50.859528\n",
       "64    50.941574\n",
       "65    50.900847\n",
       "66    50.873045\n",
       "67    50.882996\n",
       "68    50.885366\n",
       "69    50.894843\n",
       "70    50.893403\n",
       "71    50.891987\n",
       "72    50.891070\n",
       "73    50.890913\n",
       "74    50.891519\n",
       "75    50.891637\n",
       "76    50.891664\n",
       "77    50.891561\n",
       "78    50.891515\n",
       "79    50.891528\n",
       "80    50.891543\n",
       "81    50.891555\n",
       "82    50.891552\n",
       "83    50.891548\n",
       "84    50.891546\n",
       "85    50.891546\n",
       "86    50.891547\n",
       "87    50.891548\n",
       "88    50.891547\n",
       "89    50.891547\n",
       "90    50.891547\n",
       "91    50.891547\n",
       "92    50.891547\n",
       "Name: predicted_mean, dtype: float64"
      ]
     },
     "execution_count": 24,
     "metadata": {},
     "output_type": "execute_result"
    }
   ],
   "source": [
    "forecast"
   ]
  },
  {
   "cell_type": "code",
   "execution_count": 25,
   "id": "72591a80",
   "metadata": {
    "execution": {
     "iopub.execute_input": "2024-08-31T13:52:17.683114Z",
     "iopub.status.busy": "2024-08-31T13:52:17.682154Z",
     "iopub.status.idle": "2024-08-31T13:52:48.853497Z",
     "shell.execute_reply": "2024-08-31T13:52:48.852306Z"
    },
    "papermill": {
     "duration": 31.191799,
     "end_time": "2024-08-31T13:52:48.856186",
     "exception": false,
     "start_time": "2024-08-31T13:52:17.664387",
     "status": "completed"
    },
    "tags": []
   },
   "outputs": [
    {
     "name": "stdout",
     "output_type": "stream",
     "text": [
      "Collecting mplcursors\r\n",
      "  Downloading mplcursors-0.5.3.tar.gz (88 kB)\r\n",
      "\u001b[2K     \u001b[90m━━━━━━━━━━━━━━━━━━━━━━━━━━━━━━━━━━━━━━━\u001b[0m \u001b[32m88.8/88.8 kB\u001b[0m \u001b[31m859.2 kB/s\u001b[0m eta \u001b[36m0:00:00\u001b[0m\r\n",
      "\u001b[?25h  Installing build dependencies ... \u001b[?25l-\b \b\\\b \b|\b \b/\b \b-\b \b\\\b \b|\b \bdone\r\n",
      "\u001b[?25h  Getting requirements to build wheel ... \u001b[?25l-\b \bdone\r\n",
      "\u001b[?25h  Preparing metadata (pyproject.toml) ... \u001b[?25l-\b \bdone\r\n",
      "\u001b[?25hRequirement already satisfied: matplotlib!=3.7.1,>=3.1 in /opt/conda/lib/python3.10/site-packages (from mplcursors) (3.7.5)\r\n",
      "Requirement already satisfied: contourpy>=1.0.1 in /opt/conda/lib/python3.10/site-packages (from matplotlib!=3.7.1,>=3.1->mplcursors) (1.2.1)\r\n",
      "Requirement already satisfied: cycler>=0.10 in /opt/conda/lib/python3.10/site-packages (from matplotlib!=3.7.1,>=3.1->mplcursors) (0.12.1)\r\n",
      "Requirement already satisfied: fonttools>=4.22.0 in /opt/conda/lib/python3.10/site-packages (from matplotlib!=3.7.1,>=3.1->mplcursors) (4.53.0)\r\n",
      "Requirement already satisfied: kiwisolver>=1.0.1 in /opt/conda/lib/python3.10/site-packages (from matplotlib!=3.7.1,>=3.1->mplcursors) (1.4.5)\r\n",
      "Requirement already satisfied: numpy<2,>=1.20 in /opt/conda/lib/python3.10/site-packages (from matplotlib!=3.7.1,>=3.1->mplcursors) (1.26.4)\r\n",
      "Requirement already satisfied: packaging>=20.0 in /opt/conda/lib/python3.10/site-packages (from matplotlib!=3.7.1,>=3.1->mplcursors) (21.3)\r\n",
      "Requirement already satisfied: pillow>=6.2.0 in /opt/conda/lib/python3.10/site-packages (from matplotlib!=3.7.1,>=3.1->mplcursors) (9.5.0)\r\n",
      "Requirement already satisfied: pyparsing>=2.3.1 in /opt/conda/lib/python3.10/site-packages (from matplotlib!=3.7.1,>=3.1->mplcursors) (3.1.2)\r\n",
      "Requirement already satisfied: python-dateutil>=2.7 in /opt/conda/lib/python3.10/site-packages (from matplotlib!=3.7.1,>=3.1->mplcursors) (2.9.0.post0)\r\n",
      "Requirement already satisfied: six>=1.5 in /opt/conda/lib/python3.10/site-packages (from python-dateutil>=2.7->matplotlib!=3.7.1,>=3.1->mplcursors) (1.16.0)\r\n",
      "Building wheels for collected packages: mplcursors\r\n",
      "  Building wheel for mplcursors (pyproject.toml) ... \u001b[?25l-\b \bdone\r\n",
      "\u001b[?25h  Created wheel for mplcursors: filename=mplcursors-0.5.3-py3-none-any.whl size=20728 sha256=8dadec640c0abe649602f7d5fb1cdff51598b0f4166a016e9cf17a6c83147b00\r\n",
      "  Stored in directory: /root/.cache/pip/wheels/83/43/92/44f9515471f56877c774a515a2902d3e5484ea1bc7fd412d03\r\n",
      "Successfully built mplcursors\r\n",
      "Installing collected packages: mplcursors\r\n",
      "Successfully installed mplcursors-0.5.3\r\n"
     ]
    }
   ],
   "source": [
    "# threshold=50.0\n",
    "!pip install mplcursors\n",
    "import mplcursors"
   ]
  },
  {
   "cell_type": "code",
   "execution_count": 26,
   "id": "b7b48283",
   "metadata": {
    "execution": {
     "iopub.execute_input": "2024-08-31T13:52:48.894173Z",
     "iopub.status.busy": "2024-08-31T13:52:48.893780Z",
     "iopub.status.idle": "2024-08-31T13:52:49.316050Z",
     "shell.execute_reply": "2024-08-31T13:52:49.315049Z"
    },
    "papermill": {
     "duration": 0.444322,
     "end_time": "2024-08-31T13:52:49.318829",
     "exception": false,
     "start_time": "2024-08-31T13:52:48.874507",
     "status": "completed"
    },
    "tags": []
   },
   "outputs": [
    {
     "data": {
      "image/png": "[encoded data removed]",
      "text/plain": [
       "<Figure size 1200x1200 with 1 Axes>"
      ]
     },
     "metadata": {},
     "output_type": "display_data"
    }
   ],
   "source": [
    "\n",
    "threshold=50.6\n",
    "plt.figure(figsize=(12,12))\n",
    "plt.scatter(forecast_dates,forecast,color='red',label=\"Predicted NAV\")\n",
    "plt.axhline(y=threshold,color='gray',linestyle='--',label=\"Threshold\")\n",
    "plt.title('MF NAV Prediction')\n",
    "plt.xlabel('Date')\n",
    "plt.ylabel('NAV')\n",
    "plt.legend()\n",
    "plt.show()"
   ]
  },
  {
   "cell_type": "code",
   "execution_count": 27,
   "id": "b854edc9",
   "metadata": {
    "execution": {
     "iopub.execute_input": "2024-08-31T13:52:49.357734Z",
     "iopub.status.busy": "2024-08-31T13:52:49.356790Z",
     "iopub.status.idle": "2024-08-31T13:52:50.517591Z",
     "shell.execute_reply": "2024-08-31T13:52:50.516590Z"
    },
    "papermill": {
     "duration": 1.182688,
     "end_time": "2024-08-31T13:52:50.520022",
     "exception": false,
     "start_time": "2024-08-31T13:52:49.337334",
     "status": "completed"
    },
    "tags": []
   },
   "outputs": [
    {
     "data": {
      "text/html": [
       "        <script type=\"text/javascript\">\n",
       "        window.PlotlyConfig = {MathJaxConfig: 'local'};\n",
       "        if (window.MathJax && window.MathJax.Hub && window.MathJax.Hub.Config) {window.MathJax.Hub.Config({SVG: {font: \"STIX-Web\"}});}\n",
       "        if (typeof require !== 'undefined') {\n",
       "        require.undef(\"plotly\");\n",
       "        requirejs.config({\n",
       "            paths: {\n",
       "                'plotly': ['https://cdn.plot.ly/plotly-2.32.0.min']\n",
       "            }\n",
       "        });\n",
       "        require(['plotly'], function(Plotly) {\n",
       "            window._Plotly = Plotly;\n",
       "        });\n",
       "        }\n",
       "        </script>\n",
       "        "
      ]
     },
     "metadata": {},
     "output_type": "display_data"
    },
    {
     "data": {
      "text/html": [
       "<div>                            <div id=\"03b14b52-cf04-4e44-b2e1-1efa712e8136\" class=\"plotly-graph-div\" style=\"height:525px; width:100%;\"></div>            <script type=\"text/javascript\">                require([\"plotly\"], function(Plotly) {                    window.PLOTLYENV=window.PLOTLYENV || {};                                    if (document.getElementById(\"03b14b52-cf04-4e44-b2e1-1efa712e8136\")) {                    Plotly.newPlot(                        \"03b14b52-cf04-4e44-b2e1-1efa712e8136\",                        [{\"hoverinfo\":\"text\",\"mode\":\"markers+lines\",\"name\":\"Predicted NAV\",\"text\":[\"(50.85952844781917)\",\"(50.94157416914914)\",\"(50.90084685279148)\",\"(50.873044928696004)\",\"(50.882995659366316)\",\"(50.88536641900745)\",\"(50.89484301889807)\",\"(50.89340344556885)\",\"(50.8919872392117)\",\"(50.8910703975701)\",\"(50.89091278142758)\",\"(50.89151874920807)\",\"(50.8916373584029)\",\"(50.89166391198563)\",\"(50.89156114854997)\",\"(50.89151492059371)\",\"(50.89152755028358)\",\"(50.891542800702595)\",\"(50.8915547444372)\",\"(50.89155151480508)\",\"(50.89154758619829)\",\"(50.89154580091212)\",\"(50.891546179279715)\",\"(50.891547243481604)\",\"(50.89154752406217)\",\"(50.89154743189165)\",\"(50.8915472170286)\",\"(50.89154714736061)\",\"(50.891547182554845)\",\"(50.891547222912685)\"],\"x\":[\"2024-08-31T00:00:00\",\"2024-09-01T00:00:00\",\"2024-09-02T00:00:00\",\"2024-09-03T00:00:00\",\"2024-09-04T00:00:00\",\"2024-09-05T00:00:00\",\"2024-09-06T00:00:00\",\"2024-09-07T00:00:00\",\"2024-09-08T00:00:00\",\"2024-09-09T00:00:00\",\"2024-09-10T00:00:00\",\"2024-09-11T00:00:00\",\"2024-09-12T00:00:00\",\"2024-09-13T00:00:00\",\"2024-09-14T00:00:00\",\"2024-09-15T00:00:00\",\"2024-09-16T00:00:00\",\"2024-09-17T00:00:00\",\"2024-09-18T00:00:00\",\"2024-09-19T00:00:00\",\"2024-09-20T00:00:00\",\"2024-09-21T00:00:00\",\"2024-09-22T00:00:00\",\"2024-09-23T00:00:00\",\"2024-09-24T00:00:00\",\"2024-09-25T00:00:00\",\"2024-09-26T00:00:00\",\"2024-09-27T00:00:00\",\"2024-09-28T00:00:00\",\"2024-09-29T00:00:00\"],\"y\":[50.85952844781917,50.94157416914914,50.90084685279148,50.873044928696004,50.882995659366316,50.88536641900745,50.89484301889807,50.89340344556885,50.8919872392117,50.8910703975701,50.89091278142758,50.89151874920807,50.8916373584029,50.89166391198563,50.89156114854997,50.89151492059371,50.89152755028358,50.891542800702595,50.8915547444372,50.89155151480508,50.89154758619829,50.89154580091212,50.891546179279715,50.891547243481604,50.89154752406217,50.89154743189165,50.8915472170286,50.89154714736061,50.891547182554845,50.891547222912685],\"type\":\"scatter\"},{\"line\":{\"color\":\"Red\",\"dash\":\"dash\"},\"mode\":\"lines\",\"name\":\"Threshold Line\",\"x\":[null],\"y\":[null],\"type\":\"scatter\"}],                        {\"template\":{\"data\":{\"histogram2dcontour\":[{\"type\":\"histogram2dcontour\",\"colorbar\":{\"outlinewidth\":0,\"ticks\":\"\"},\"colorscale\":[[0.0,\"#0d0887\"],[0.1111111111111111,\"#46039f\"],[0.2222222222222222,\"#7201a8\"],[0.3333333333333333,\"#9c179e\"],[0.4444444444444444,\"#bd3786\"],[0.5555555555555556,\"#d8576b\"],[0.6666666666666666,\"#ed7953\"],[0.7777777777777778,\"#fb9f3a\"],[0.8888888888888888,\"#fdca26\"],[1.0,\"#f0f921\"]]}],\"choropleth\":[{\"type\":\"choropleth\",\"colorbar\":{\"outlinewidth\":0,\"ticks\":\"\"}}],\"histogram2d\":[{\"type\":\"histogram2d\",\"colorbar\":{\"outlinewidth\":0,\"ticks\":\"\"},\"colorscale\":[[0.0,\"#0d0887\"],[0.1111111111111111,\"#46039f\"],[0.2222222222222222,\"#7201a8\"],[0.3333333333333333,\"#9c179e\"],[0.4444444444444444,\"#bd3786\"],[0.5555555555555556,\"#d8576b\"],[0.6666666666666666,\"#ed7953\"],[0.7777777777777778,\"#fb9f3a\"],[0.8888888888888888,\"#fdca26\"],[1.0,\"#f0f921\"]]}],\"heatmap\":[{\"type\":\"heatmap\",\"colorbar\":{\"outlinewidth\":0,\"ticks\":\"\"},\"colorscale\":[[0.0,\"#0d0887\"],[0.1111111111111111,\"#46039f\"],[0.2222222222222222,\"#7201a8\"],[0.3333333333333333,\"#9c179e\"],[0.4444444444444444,\"#bd3786\"],[0.5555555555555556,\"#d8576b\"],[0.6666666666666666,\"#ed7953\"],[0.7777777777777778,\"#fb9f3a\"],[0.8888888888888888,\"#fdca26\"],[1.0,\"#f0f921\"]]}],\"heatmapgl\":[{\"type\":\"heatmapgl\",\"colorbar\":{\"outlinewidth\":0,\"ticks\":\"\"},\"colorscale\":[[0.0,\"#0d0887\"],[0.1111111111111111,\"#46039f\"],[0.2222222222222222,\"#7201a8\"],[0.3333333333333333,\"#9c179e\"],[0.4444444444444444,\"#bd3786\"],[0.5555555555555556,\"#d8576b\"],[0.6666666666666666,\"#ed7953\"],[0.7777777777777778,\"#fb9f3a\"],[0.8888888888888888,\"#fdca26\"],[1.0,\"#f0f921\"]]}],\"contourcarpet\":[{\"type\":\"contourcarpet\",\"colorbar\":{\"outlinewidth\":0,\"ticks\":\"\"}}],\"contour\":[{\"type\":\"contour\",\"colorbar\":{\"outlinewidth\":0,\"ticks\":\"\"},\"colorscale\":[[0.0,\"#0d0887\"],[0.1111111111111111,\"#46039f\"],[0.2222222222222222,\"#7201a8\"],[0.3333333333333333,\"#9c179e\"],[0.4444444444444444,\"#bd3786\"],[0.5555555555555556,\"#d8576b\"],[0.6666666666666666,\"#ed7953\"],[0.7777777777777778,\"#fb9f3a\"],[0.8888888888888888,\"#fdca26\"],[1.0,\"#f0f921\"]]}],\"surface\":[{\"type\":\"surface\",\"colorbar\":{\"outlinewidth\":0,\"ticks\":\"\"},\"colorscale\":[[0.0,\"#0d0887\"],[0.1111111111111111,\"#46039f\"],[0.2222222222222222,\"#7201a8\"],[0.3333333333333333,\"#9c179e\"],[0.4444444444444444,\"#bd3786\"],[0.5555555555555556,\"#d8576b\"],[0.6666666666666666,\"#ed7953\"],[0.7777777777777778,\"#fb9f3a\"],[0.8888888888888888,\"#fdca26\"],[1.0,\"#f0f921\"]]}],\"mesh3d\":[{\"type\":\"mesh3d\",\"colorbar\":{\"outlinewidth\":0,\"ticks\":\"\"}}],\"scatter\":[{\"fillpattern\":{\"fillmode\":\"overlay\",\"size\":10,\"solidity\":0.2},\"type\":\"scatter\"}],\"parcoords\":[{\"type\":\"parcoords\",\"line\":{\"colorbar\":{\"outlinewidth\":0,\"ticks\":\"\"}}}],\"scatterpolargl\":[{\"type\":\"scatterpolargl\",\"marker\":{\"colorbar\":{\"outlinewidth\":0,\"ticks\":\"\"}}}],\"bar\":[{\"error_x\":{\"color\":\"#2a3f5f\"},\"error_y\":{\"color\":\"#2a3f5f\"},\"marker\":{\"line\":{\"color\":\"#E5ECF6\",\"width\":0.5},\"pattern\":{\"fillmode\":\"overlay\",\"size\":10,\"solidity\":0.2}},\"type\":\"bar\"}],\"scattergeo\":[{\"type\":\"scattergeo\",\"marker\":{\"colorbar\":{\"outlinewidth\":0,\"ticks\":\"\"}}}],\"scatterpolar\":[{\"type\":\"scatterpolar\",\"marker\":{\"colorbar\":{\"outlinewidth\":0,\"ticks\":\"\"}}}],\"histogram\":[{\"marker\":{\"pattern\":{\"fillmode\":\"overlay\",\"size\":10,\"solidity\":0.2}},\"type\":\"histogram\"}],\"scattergl\":[{\"type\":\"scattergl\",\"marker\":{\"colorbar\":{\"outlinewidth\":0,\"ticks\":\"\"}}}],\"scatter3d\":[{\"type\":\"scatter3d\",\"line\":{\"colorbar\":{\"outlinewidth\":0,\"ticks\":\"\"}},\"marker\":{\"colorbar\":{\"outlinewidth\":0,\"ticks\":\"\"}}}],\"scattermapbox\":[{\"type\":\"scattermapbox\",\"marker\":{\"colorbar\":{\"outlinewidth\":0,\"ticks\":\"\"}}}],\"scatterternary\":[{\"type\":\"scatterternary\",\"marker\":{\"colorbar\":{\"outlinewidth\":0,\"ticks\":\"\"}}}],\"scattercarpet\":[{\"type\":\"scattercarpet\",\"marker\":{\"colorbar\":{\"outlinewidth\":0,\"ticks\":\"\"}}}],\"carpet\":[{\"aaxis\":{\"endlinecolor\":\"#2a3f5f\",\"gridcolor\":\"white\",\"linecolor\":\"white\",\"minorgridcolor\":\"white\",\"startlinecolor\":\"#2a3f5f\"},\"baxis\":{\"endlinecolor\":\"#2a3f5f\",\"gridcolor\":\"white\",\"linecolor\":\"white\",\"minorgridcolor\":\"white\",\"startlinecolor\":\"#2a3f5f\"},\"type\":\"carpet\"}],\"table\":[{\"cells\":{\"fill\":{\"color\":\"#EBF0F8\"},\"line\":{\"color\":\"white\"}},\"header\":{\"fill\":{\"color\":\"#C8D4E3\"},\"line\":{\"color\":\"white\"}},\"type\":\"table\"}],\"barpolar\":[{\"marker\":{\"line\":{\"color\":\"#E5ECF6\",\"width\":0.5},\"pattern\":{\"fillmode\":\"overlay\",\"size\":10,\"solidity\":0.2}},\"type\":\"barpolar\"}],\"pie\":[{\"automargin\":true,\"type\":\"pie\"}]},\"layout\":{\"autotypenumbers\":\"strict\",\"colorway\":[\"#636efa\",\"#EF553B\",\"#00cc96\",\"#ab63fa\",\"#FFA15A\",\"#19d3f3\",\"#FF6692\",\"#B6E880\",\"#FF97FF\",\"#FECB52\"],\"font\":{\"color\":\"#2a3f5f\"},\"hovermode\":\"closest\",\"hoverlabel\":{\"align\":\"left\"},\"paper_bgcolor\":\"white\",\"plot_bgcolor\":\"#E5ECF6\",\"polar\":{\"bgcolor\":\"#E5ECF6\",\"angularaxis\":{\"gridcolor\":\"white\",\"linecolor\":\"white\",\"ticks\":\"\"},\"radialaxis\":{\"gridcolor\":\"white\",\"linecolor\":\"white\",\"ticks\":\"\"}},\"ternary\":{\"bgcolor\":\"#E5ECF6\",\"aaxis\":{\"gridcolor\":\"white\",\"linecolor\":\"white\",\"ticks\":\"\"},\"baxis\":{\"gridcolor\":\"white\",\"linecolor\":\"white\",\"ticks\":\"\"},\"caxis\":{\"gridcolor\":\"white\",\"linecolor\":\"white\",\"ticks\":\"\"}},\"coloraxis\":{\"colorbar\":{\"outlinewidth\":0,\"ticks\":\"\"}},\"colorscale\":{\"sequential\":[[0.0,\"#0d0887\"],[0.1111111111111111,\"#46039f\"],[0.2222222222222222,\"#7201a8\"],[0.3333333333333333,\"#9c179e\"],[0.4444444444444444,\"#bd3786\"],[0.5555555555555556,\"#d8576b\"],[0.6666666666666666,\"#ed7953\"],[0.7777777777777778,\"#fb9f3a\"],[0.8888888888888888,\"#fdca26\"],[1.0,\"#f0f921\"]],\"sequentialminus\":[[0.0,\"#0d0887\"],[0.1111111111111111,\"#46039f\"],[0.2222222222222222,\"#7201a8\"],[0.3333333333333333,\"#9c179e\"],[0.4444444444444444,\"#bd3786\"],[0.5555555555555556,\"#d8576b\"],[0.6666666666666666,\"#ed7953\"],[0.7777777777777778,\"#fb9f3a\"],[0.8888888888888888,\"#fdca26\"],[1.0,\"#f0f921\"]],\"diverging\":[[0,\"#8e0152\"],[0.1,\"#c51b7d\"],[0.2,\"#de77ae\"],[0.3,\"#f1b6da\"],[0.4,\"#fde0ef\"],[0.5,\"#f7f7f7\"],[0.6,\"#e6f5d0\"],[0.7,\"#b8e186\"],[0.8,\"#7fbc41\"],[0.9,\"#4d9221\"],[1,\"#276419\"]]},\"xaxis\":{\"gridcolor\":\"white\",\"linecolor\":\"white\",\"ticks\":\"\",\"title\":{\"standoff\":15},\"zerolinecolor\":\"white\",\"automargin\":true,\"zerolinewidth\":2},\"yaxis\":{\"gridcolor\":\"white\",\"linecolor\":\"white\",\"ticks\":\"\",\"title\":{\"standoff\":15},\"zerolinecolor\":\"white\",\"automargin\":true,\"zerolinewidth\":2},\"scene\":{\"xaxis\":{\"backgroundcolor\":\"#E5ECF6\",\"gridcolor\":\"white\",\"linecolor\":\"white\",\"showbackground\":true,\"ticks\":\"\",\"zerolinecolor\":\"white\",\"gridwidth\":2},\"yaxis\":{\"backgroundcolor\":\"#E5ECF6\",\"gridcolor\":\"white\",\"linecolor\":\"white\",\"showbackground\":true,\"ticks\":\"\",\"zerolinecolor\":\"white\",\"gridwidth\":2},\"zaxis\":{\"backgroundcolor\":\"#E5ECF6\",\"gridcolor\":\"white\",\"linecolor\":\"white\",\"showbackground\":true,\"ticks\":\"\",\"zerolinecolor\":\"white\",\"gridwidth\":2}},\"shapedefaults\":{\"line\":{\"color\":\"#2a3f5f\"}},\"annotationdefaults\":{\"arrowcolor\":\"#2a3f5f\",\"arrowhead\":0,\"arrowwidth\":1},\"geo\":{\"bgcolor\":\"white\",\"landcolor\":\"#E5ECF6\",\"subunitcolor\":\"white\",\"showland\":true,\"showlakes\":true,\"lakecolor\":\"white\"},\"title\":{\"x\":0.05},\"mapbox\":{\"style\":\"light\"}}},\"shapes\":[{\"line\":{\"color\":\"Red\",\"dash\":\"dash\"},\"name\":\"Threshold\",\"type\":\"line\",\"x0\":\"2024-08-31T00:00:00\",\"x1\":\"2024-09-29T00:00:00\",\"y0\":50.6,\"y1\":50.6}],\"title\":{\"text\":\"MF NAV Prediction\"},\"xaxis\":{\"title\":{\"text\":\"Date\"}},\"yaxis\":{\"title\":{\"text\":\"NAV\"}},\"showlegend\":true},                        {\"responsive\": true}                    ).then(function(){\n",
       "                            \n",
       "var gd = document.getElementById('03b14b52-cf04-4e44-b2e1-1efa712e8136');\n",
       "var x = new MutationObserver(function (mutations, observer) {{\n",
       "        var display = window.getComputedStyle(gd).display;\n",
       "        if (!display || display === 'none') {{\n",
       "            console.log([gd, 'removed!']);\n",
       "            Plotly.purge(gd);\n",
       "            observer.disconnect();\n",
       "        }}\n",
       "}});\n",
       "\n",
       "// Listen for the removal of the full notebook cells\n",
       "var notebookContainer = gd.closest('#notebook-container');\n",
       "if (notebookContainer) {{\n",
       "    x.observe(notebookContainer, {childList: true});\n",
       "}}\n",
       "\n",
       "// Listen for the clearing of the current output cell\n",
       "var outputEl = gd.closest('.output');\n",
       "if (outputEl) {{\n",
       "    x.observe(outputEl, {childList: true});\n",
       "}}\n",
       "\n",
       "                        })                };                });            </script>        </div>"
      ]
     },
     "metadata": {},
     "output_type": "display_data"
    }
   ],
   "source": [
    "import plotly.graph_objs as go\n",
    "import plotly.express as px\n",
    "\n",
    "\n",
    "threshold=50.6\n",
    "\n",
    "\n",
    "# Create a scatter plot\n",
    "fig = go.Figure(data=go.Scatter(x=forecast_dates, y=forecast,name=\"Predicted NAV\", mode='markers+lines', text=[f'({yi})' for xi, yi in zip(forecast_dates, forecast)], hoverinfo='text'))\n",
    "\n",
    "# Add labels and title\n",
    "\n",
    "\n",
    "# Add a threshold line\n",
    "# threshold_value = 25\n",
    "fig.add_shape(\n",
    "    type='line',\n",
    "    x0=min(forecast_dates), x1=max(forecast_dates),\n",
    "    y0=threshold, y1=threshold,\n",
    "    line=dict(color='Red', dash='dash'),\n",
    "    name='Threshold'\n",
    ")\n",
    "\n",
    "fig.add_trace(go.Scatter(\n",
    "    x=[None], y=[None], mode='lines',\n",
    "    line=dict(color='Red', dash='dash'),\n",
    "    name='Threshold Line'\n",
    "))\n",
    "\n",
    "fig.update_layout(\n",
    "    title='MF NAV Prediction',\n",
    "    xaxis_title='Date',\n",
    "    yaxis_title='NAV',showlegend=True\n",
    ")\n",
    "\n",
    "# Show the plot\n",
    "fig.show()\n"
   ]
  },
  {
   "cell_type": "code",
   "execution_count": null,
   "id": "67a280ea",
   "metadata": {
    "papermill": {
     "duration": 0.018789,
     "end_time": "2024-08-31T13:52:50.558911",
     "exception": false,
     "start_time": "2024-08-31T13:52:50.540122",
     "status": "completed"
    },
    "tags": []
   },
   "outputs": [],
   "source": []
  }
 ],
 "metadata": {
  "kaggle": {
   "accelerator": "none",
   "dataSources": [],
   "isGpuEnabled": false,
   "isInternetEnabled": true,
   "language": "python",
   "sourceType": "notebook"
  },
  "kernelspec": {
   "display_name": "Python 3",
   "language": "python",
   "name": "python3"
  },
  "language_info": {
   "codemirror_mode": {
    "name": "ipython",
    "version": 3
   },
   "file_extension": ".py",
   "mimetype": "text/x-python",
   "name": "python",
   "nbconvert_exporter": "python",
   "pygments_lexer": "ipython3",
   "version": "3.10.14"
  },
  "papermill": {
   "default_parameters": {},
   "duration": 96.279936,
   "end_time": "2024-08-31T13:52:51.298553",
   "environment_variables": {},
   "exception": null,
   "input_path": "__notebook__.ipynb",
   "output_path": "__notebook__.ipynb",
   "parameters": {},
   "start_time": "2024-08-31T13:51:15.018617",
   "version": "2.6.0"
  }
 },
 "nbformat": 4,
 "nbformat_minor": 5
}
